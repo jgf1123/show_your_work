{
 "cells": [
  {
   "cell_type": "markdown",
   "id": "7f0f1391-a1e1-494e-9911-495990d09d71",
   "metadata": {
    "panel-layout": {
     "height": 50.8203125,
     "visible": true,
     "width": 100
    }
   },
   "source": [
    "## Data visualization (suggestions)"
   ]
  },
  {
   "cell_type": "code",
   "execution_count": null,
   "id": "ecb2d63b-b53c-4302-baf5-a4f900056b4e",
   "metadata": {},
   "outputs": [],
   "source": [
    "import pandas as pd\n",
    "import matplotlib.pyplot as plt\n",
    "import seaborn as sns\n",
    "import plotly.express as px\n",
    "\n",
    "import plotly.io as pio\n",
    "pio.renderers.default = \"notebook\""
   ]
  },
  {
   "cell_type": "code",
   "execution_count": null,
   "id": "a5751756",
   "metadata": {},
   "outputs": [],
   "source": []
  },
  {
   "cell_type": "markdown",
   "id": "958ff6dd",
   "metadata": {},
   "source": [
    "#### Understanding the available datasets"
   ]
  },
  {
   "cell_type": "markdown",
   "id": "f8c65b47",
   "metadata": {},
   "source": [
    "#### 1. Penguins datset\n",
    "\n",
    "- The penguins dataset contains measurements for three species of penguins (Adelie, Chinstrap, Gentoo) observed on different islands in the Palmer Archipelago, Antarctica.\n",
    "- It includes features such as bill length and depth, flipper length, body mass, sex, and species.\n",
    "- This dataset is commonly used for data visualization and machine learning exercises as an alternative to the classic iris dataset.\n",
    "- It provides a real-world example for exploring classification, visualization, and data cleaning techniques."
   ]
  },
  {
   "cell_type": "code",
   "execution_count": null,
   "id": "7c4c2afc-7d9d-4249-b107-46cb56d70e5b",
   "metadata": {},
   "outputs": [],
   "source": [
    "penguins_df = pd.read_csv('data/penguins.csv')"
   ]
  },
  {
   "cell_type": "code",
   "execution_count": null,
   "id": "135ecbd5",
   "metadata": {},
   "outputs": [],
   "source": [
    "penguins_df.head()"
   ]
  },
  {
   "cell_type": "code",
   "execution_count": null,
   "id": "e43a41f8-0ddf-4446-b77d-4c94e20ec51d",
   "metadata": {},
   "outputs": [],
   "source": []
  },
  {
   "cell_type": "markdown",
   "id": "2741ccd9",
   "metadata": {
    "vscode": {
     "languageId": "markdown"
    }
   },
   "source": [
    "#### 2. Car Crashes Dataset\n",
    "\n",
    "- The car crashes dataset contains data on traffic accidents, including the number of crashes, injuries, and fatalities by state or region.\n",
    "- It typically includes features such as total crashes, alcohol-involved crashes, speeding-related crashes, and population statistics.\n",
    "- This dataset is widely used for data visualization, exploratory data analysis, and statistical modeling to understand factors contributing to road accidents.\n",
    "- It provides a practical example for learning about correlation, regression, and geospatial analysis in Python."
   ]
  },
  {
   "cell_type": "code",
   "execution_count": null,
   "id": "a873b7d1",
   "metadata": {},
   "outputs": [],
   "source": [
    "# Load and explore the penguins dataset\n",
    "car_crashes = pd.read_csv('data/car_crashes.csv')\n",
    "\n",
    "car_crashes.head(10)"
   ]
  },
  {
   "cell_type": "code",
   "execution_count": null,
   "id": "22968393",
   "metadata": {},
   "outputs": [],
   "source": []
  },
  {
   "cell_type": "markdown",
   "id": "c3971538",
   "metadata": {},
   "source": [
    "#### 3. Chlorophyll Concentration Analysis"
   ]
  },
  {
   "cell_type": "markdown",
   "id": "235eef18",
   "metadata": {},
   "source": [
    "The `data/chla_subset.csv` dataset contains chlorophyll-a (chla) predictions for various water bodies, such as lakes and reservoirs. Each row represents a measurement event, including the following columns:\n",
    "\n",
    "- `gnis_name`: Name of the water body (e.g., \"Pepacton Reservoir\", \"Lake Montauk\").\n",
    "- `comid`: Unique identifier for the water body.\n",
    "- `centroid_longitude` and `centroid_latitude`: Geographic coordinates of the water body's centroid.\n",
    "- `date_acquired`: Date when the measurement or prediction was made.\n",
    "- `predictions`: Predicted chlorophyll-a concentration (likely in µg/L).\n",
    "\n",
    "This dataset is useful for analyzing spatial and temporal patterns of chlorophyll-a, which is an important indicator of water quality and algal biomass."
   ]
  },
  {
   "cell_type": "code",
   "execution_count": null,
   "id": "8d138dba",
   "metadata": {},
   "outputs": [],
   "source": [
    "# Load and describe the chla dataset\n",
    "chla = pd.read_csv('data/chla_subset.csv')\n",
    "chla['date_acquired'] = pd.to_datetime(chla['date_acquired'])\n",
    "\n",
    "# Show the first few rows\n",
    "display(chla.head())"
   ]
  },
  {
   "cell_type": "code",
   "execution_count": null,
   "id": "6d9f9641-37e3-4aa4-845c-dd752cee7d5f",
   "metadata": {},
   "outputs": [],
   "source": []
  },
  {
   "cell_type": "markdown",
   "id": "75c18dd3-c550-4e78-b8f6-31263666f848",
   "metadata": {},
   "source": [
    "### 4. Any other dataset of your choice"
   ]
  },
  {
   "cell_type": "markdown",
   "id": "cce71a7e-d7df-4d91-bf49-92565ef7cb45",
   "metadata": {},
   "source": [
    "Here're some Seaborn datasets for inspiration: https://github.com/mwaskom/seaborn-data"
   ]
  },
  {
   "cell_type": "code",
   "execution_count": null,
   "id": "486b936e-149b-4ad7-b178-0438ab78c1a1",
   "metadata": {},
   "outputs": [],
   "source": []
  },
  {
   "cell_type": "markdown",
   "id": "59b07fcf-b3c9-4d92-8d1d-6c2405e09ee4",
   "metadata": {},
   "source": [
    "## Exercise!\n",
    "\n",
    "#### Objective: Create some data visualizations that we can reuse for the rest of the tutorial."
   ]
  },
  {
   "cell_type": "markdown",
   "id": "df70d1f2-b330-4c87-ac1d-92b6990e8d45",
   "metadata": {},
   "source": [
    "### If you selected the `Penguins` dataset"
   ]
  },
  {
   "cell_type": "markdown",
   "id": "80a4de3e-2cad-4ff5-8ca0-7a0f8fb3f28b",
   "metadata": {},
   "source": [
    "#### 1. Create a bar chart showing how many penguins of each species are in the dataset.\n",
    "Hint: plt.bar(), sns.countplot() or px.bar()."
   ]
  },
  {
   "cell_type": "code",
   "execution_count": null,
   "id": "cf53617c-b2e5-4308-b6c9-eefc4e001486",
   "metadata": {},
   "outputs": [],
   "source": [
    "plt.figure(figsize=(8, 6))\n",
    "ax = sns.countplot(data=penguins_df, x='species')\n",
    "plt.title('Number of Penguins by Species')\n",
    "plt.xlabel('Species')\n",
    "plt.ylabel('Count')\n",
    "plt.show()\n",
    "\n",
    "fig = ax.figure"
   ]
  },
  {
   "cell_type": "code",
   "execution_count": null,
   "id": "dbbfdaa5-0a8b-4385-a1e1-a109ec2618ad",
   "metadata": {},
   "outputs": [],
   "source": [
    "fig = px.bar(penguins_df['species'].value_counts().reset_index(), \n",
    "             x='species', \n",
    "             y='count',\n",
    "             title='Number of Penguins by Species')\n",
    "fig.update_layout(xaxis_title='Species', yaxis_title='Count')"
   ]
  },
  {
   "cell_type": "code",
   "execution_count": null,
   "id": "7da116d7-c490-4f85-bb89-62f221b8bec5",
   "metadata": {},
   "outputs": [],
   "source": []
  },
  {
   "cell_type": "markdown",
   "id": "9288448b-4927-4c74-b0ca-3065436c6e1f",
   "metadata": {},
   "source": [
    "#### 2. Make a histogram of penguin body weights to see the distribution.\n",
    "Hint: plt.hist(), sns.histplot() or px.histogram()."
   ]
  },
  {
   "cell_type": "code",
   "execution_count": null,
   "id": "14e65720-5c84-4266-b46b-571819da47a6",
   "metadata": {},
   "outputs": [],
   "source": [
    "plt.figure(figsize=(8, 6))\n",
    "ax = sns.histplot(data=penguins_df, x='body_mass_g')\n",
    "plt.title('Distribution of Penguin Body Weights')\n",
    "plt.xlabel('Body Mass (g)')\n",
    "plt.ylabel('Count')\n",
    "plt.show()\n",
    "\n",
    "fig = ax.figure"
   ]
  },
  {
   "cell_type": "code",
   "execution_count": null,
   "id": "526b3c5c-fb20-45aa-b420-8b07bfd10293",
   "metadata": {},
   "outputs": [],
   "source": [
    "fig = px.histogram(penguins_df, x='body_mass_g', \n",
    "                   title='Distribution of Penguin Body Weights')\n",
    "fig.update_layout(xaxis_title='Body Mass (g)', yaxis_title='Count')\n",
    "fig.show()"
   ]
  },
  {
   "cell_type": "code",
   "execution_count": null,
   "id": "6e22023a-d87f-4eea-aff9-baa2b751b3c6",
   "metadata": {},
   "outputs": [],
   "source": []
  },
  {
   "cell_type": "markdown",
   "id": "985ac505-7fab-4567-9b63-7acb02d0d87a",
   "metadata": {},
   "source": [
    "#### 3. Create a scatter plot comparing bill length vs bill depth, with different colors for each species.\n",
    "Hint: plt.scatter(), sns.scatterplot() or px.scatter()."
   ]
  },
  {
   "cell_type": "code",
   "execution_count": null,
   "id": "bce3ce11-84dd-4ace-9a22-f44e2ccf776f",
   "metadata": {},
   "outputs": [],
   "source": [
    "plt.figure(figsize=(8, 6))\n",
    "ax = sns.scatterplot(data=penguins_df, x='bill_length_mm', y='bill_depth_mm', hue='species')\n",
    "plt.title('Bill Length vs Bill Depth by Species')\n",
    "plt.xlabel('Bill Length (mm)')\n",
    "plt.ylabel('Bill Depth (mm)')\n",
    "plt.show()\n",
    "\n",
    "fig = ax.figure"
   ]
  },
  {
   "cell_type": "code",
   "execution_count": null,
   "id": "87a636e3-5d22-4ab0-89ec-cb662f89d36d",
   "metadata": {},
   "outputs": [],
   "source": [
    "fig = px.scatter(penguins_df, x='bill_length_mm', y='bill_depth_mm', \n",
    "                 color='species',\n",
    "                 title='Bill Length vs Bill Depth by Species')\n",
    "fig.update_layout(xaxis_title='Bill Length (mm)', yaxis_title='Bill Depth (mm)')\n",
    "fig.show()"
   ]
  },
  {
   "cell_type": "code",
   "execution_count": null,
   "id": "5e10c7f1-4441-4ae5-8838-561eb4dfcf27",
   "metadata": {},
   "outputs": [],
   "source": []
  },
  {
   "cell_type": "markdown",
   "id": "ef23df27-859f-4fe8-b859-012285b29eb5",
   "metadata": {},
   "source": [
    "#### 4. Make a box plot showing flipper length for each penguin species.\n",
    "Hint: plt.boxplot(), sns.boxplot() or px.box()."
   ]
  },
  {
   "cell_type": "code",
   "execution_count": null,
   "id": "72b6a7e6-52f6-4781-bae6-9d517220fb17",
   "metadata": {},
   "outputs": [],
   "source": [
    "plt.figure(figsize=(8, 6))\n",
    "ax = sns.boxplot(data=penguins_df, x='species', y='flipper_length_mm')\n",
    "plt.title('Flipper Length by Species')\n",
    "plt.xlabel('Species')\n",
    "plt.ylabel('Flipper Length (mm)')\n",
    "plt.show()\n",
    "\n",
    "fig = ax.figure"
   ]
  },
  {
   "cell_type": "code",
   "execution_count": null,
   "id": "1c62dca7-9791-4e75-ae95-3b4c67ef2b57",
   "metadata": {},
   "outputs": [],
   "source": [
    "fig = px.box(penguins_df, x='species', y='flipper_length_mm',\n",
    "             title='Flipper Length by Species')\n",
    "fig.update_layout(xaxis_title='Species', yaxis_title='Flipper Length (mm)')\n",
    "fig.show()"
   ]
  },
  {
   "cell_type": "code",
   "execution_count": null,
   "id": "de6720f1-c60d-457b-b233-a50fc44a5334",
   "metadata": {},
   "outputs": [],
   "source": []
  },
  {
   "cell_type": "markdown",
   "id": "0fd99fdb-ea88-423b-8ac9-1726b9d86f42",
   "metadata": {},
   "source": [
    "#### 5. Create a line plot showing the average body mass for each species across different islands.\n",
    "Hint: plt.plot(), sns.lineplot() or px.line()."
   ]
  },
  {
   "cell_type": "code",
   "execution_count": null,
   "id": "cfd4a9c4-8950-4fc6-9408-d6dcdf827475",
   "metadata": {},
   "outputs": [],
   "source": [
    "plt.figure(figsize=(8, 6))\n",
    "ax = sns.lineplot(data=penguins_df, x='island', y='body_mass_g', hue='species')\n",
    "plt.title('Average Body Mass by Species Across Islands')\n",
    "plt.xlabel('Island')\n",
    "plt.ylabel('Body Mass (g)')\n",
    "plt.show()\n",
    "\n",
    "fig = ax.figure"
   ]
  },
  {
   "cell_type": "code",
   "execution_count": null,
   "id": "7bbfd2f0-b1d2-4b03-8c6d-6f06d9982a75",
   "metadata": {},
   "outputs": [],
   "source": [
    "fig = px.line(penguins_df, x='island', y='body_mass_g', \n",
    "              color='species',\n",
    "              title='Average Body Mass by Species Across Islands')\n",
    "fig.update_layout(xaxis_title='Island', yaxis_title='Body Mass (g)')\n",
    "fig.show()"
   ]
  },
  {
   "cell_type": "code",
   "execution_count": null,
   "id": "59e3f5b8-0235-4e4f-8771-9881323cf62d",
   "metadata": {},
   "outputs": [],
   "source": []
  },
  {
   "cell_type": "markdown",
   "id": "bbe95b73-c006-4726-a728-bd85f5f069b5",
   "metadata": {},
   "source": [
    "### If you selected the `crashes` dataset"
   ]
  },
  {
   "cell_type": "markdown",
   "id": "eb029ac6-b2ec-4314-b0c6-c400be488a1d",
   "metadata": {},
   "source": [
    "#### 1. Create a bar chart showing the total number of car crashes by state.\n",
    "Hint: plt.bar(), sns.barplot() or px.bar()."
   ]
  },
  {
   "cell_type": "code",
   "execution_count": null,
   "id": "e4522ab3-e1df-4220-9b4c-41cd1b398d3d",
   "metadata": {},
   "outputs": [],
   "source": [
    "plt.figure(figsize=(12, 6))\n",
    "sns.barplot(data=car_crashes, x='abbrev', y='total')\n",
    "plt.title('Total Car Crashes by State')\n",
    "plt.xlabel('State')\n",
    "plt.ylabel('Total Crashes')\n",
    "plt.xticks(rotation=45)\n",
    "plt.show()"
   ]
  },
  {
   "cell_type": "code",
   "execution_count": null,
   "id": "12e0e101-e3ce-4558-9467-a1c1c9dc5ad3",
   "metadata": {},
   "outputs": [],
   "source": [
    "fig = px.bar(car_crashes, x='abbrev', y='total',\n",
    "             title='Total Car Crashes by State')\n",
    "fig.update_layout(xaxis_title='State', yaxis_title='Total Crashes')\n",
    "fig.show()\n"
   ]
  },
  {
   "cell_type": "code",
   "execution_count": null,
   "id": "97ef2f73-2b80-44d4-bbf1-b85c430b64d2",
   "metadata": {},
   "outputs": [],
   "source": []
  },
  {
   "cell_type": "markdown",
   "id": "c328f6bf-c138-4438-86bb-7271f5d67920",
   "metadata": {},
   "source": [
    "#### 2. Make a histogram of insurance premiums to see the distribution across states.\n",
    "Hint: plt.hist(), sns.histplot() or px.histogram()."
   ]
  },
  {
   "cell_type": "code",
   "execution_count": null,
   "id": "5f04c50e-9b81-41ec-94e9-60b697a2e918",
   "metadata": {},
   "outputs": [],
   "source": [
    "# Seaborn approach\n",
    "plt.figure(figsize=(8, 6))\n",
    "sns.histplot(data=car_crashes, x='ins_premium')\n",
    "plt.title('Distribution of Insurance Premiums Across States')\n",
    "plt.xlabel('Insurance Premium')\n",
    "plt.ylabel('Count')\n",
    "plt.show()\n",
    "\n",
    "# Plotly Express approach\n",
    "fig = px.histogram(car_crashes, x='ins_premium',\n",
    "                   title='Distribution of Insurance Premiums Across States')\n",
    "fig.update_layout(xaxis_title='Insurance Premium', yaxis_title='Count')\n",
    "fig.show()"
   ]
  },
  {
   "cell_type": "code",
   "execution_count": null,
   "id": "b60149a3-8647-4cfa-ab45-cab19691dd13",
   "metadata": {},
   "outputs": [],
   "source": []
  },
  {
   "cell_type": "markdown",
   "id": "4796f3cc-ca28-449f-b079-2a6fdcba4a82",
   "metadata": {},
   "source": [
    "#### 3. Create a scatter plot comparing total crashes vs speeding-related crashes, with state abbreviations as labels.\n",
    "Hint: plt.scatter(), sns.scatterplot() or px.scatter()."
   ]
  },
  {
   "cell_type": "code",
   "execution_count": null,
   "id": "d54a650f-1890-48ec-bfb0-e8bc5a406f75",
   "metadata": {},
   "outputs": [],
   "source": [
    "# Seaborn approach\n",
    "plt.figure(figsize=(8, 6))\n",
    "sns.scatterplot(data=car_crashes, x='total', y='speeding')\n",
    "for i, txt in enumerate(car_crashes['abbrev']):\n",
    "    plt.annotate(txt, (car_crashes['total'].iloc[i], car_crashes['speeding'].iloc[i]))\n",
    "plt.title('Total Crashes vs Speeding-Related Crashes')\n",
    "plt.xlabel('Total Crashes')\n",
    "plt.ylabel('Speeding-Related Crashes')\n",
    "plt.show()\n",
    "\n",
    "# Plotly Express approach\n",
    "fig = px.scatter(car_crashes, x='total', y='speeding', \n",
    "                 text='abbrev',\n",
    "                 title='Total Crashes vs Speeding-Related Crashes')\n",
    "fig.update_traces(textposition='top center')\n",
    "fig.update_layout(xaxis_title='Total Crashes', yaxis_title='Speeding-Related Crashes')\n",
    "fig.show()"
   ]
  },
  {
   "cell_type": "code",
   "execution_count": null,
   "id": "5a3a1d99-66c2-4262-b4d9-1efa1b745e28",
   "metadata": {},
   "outputs": [],
   "source": [
    "# Plotly Express choropleth map\n",
    "fig = px.choropleth(car_crashes, \n",
    "                    locations='abbrev', \n",
    "                    color='total',\n",
    "                    locationmode='USA-states',\n",
    "                    scope='usa',\n",
    "                    title='Total Car Crashes by US State',\n",
    "                    color_continuous_scale='Reds',\n",
    "                    labels={'total': 'Total Crashes'})\n",
    "fig.update_layout(geo=dict(bgcolor='rgba(0,0,0,0)'))\n",
    "fig.show()"
   ]
  },
  {
   "cell_type": "code",
   "execution_count": null,
   "id": "ceef2d7c-f694-4c66-be1d-2dc0705058ea",
   "metadata": {},
   "outputs": [],
   "source": []
  },
  {
   "cell_type": "markdown",
   "id": "65c0e105-c55d-4b76-8cd9-a7012b1abdbd",
   "metadata": {},
   "source": [
    "#### 4. Make a box plot showing the distribution of alcohol-related crashes.\n",
    "Hint: plt.boxplot(), sns.boxplot() or px.box()."
   ]
  },
  {
   "cell_type": "code",
   "execution_count": null,
   "id": "75291b44-06c3-4ffd-bf59-c65c1da4c153",
   "metadata": {},
   "outputs": [],
   "source": [
    "# Seaborn approach\n",
    "plt.figure(figsize=(8, 6))\n",
    "sns.boxplot(data=car_crashes, y='alcohol')\n",
    "plt.title('Distribution of Alcohol-Related Crashes')\n",
    "plt.ylabel('Alcohol-Related Crashes')\n",
    "plt.show()\n",
    "\n",
    "# Plotly Express approach\n",
    "fig = px.box(car_crashes, y='alcohol',\n",
    "             title='Distribution of Alcohol-Related Crashes')\n",
    "fig.update_layout(yaxis_title='Alcohol-Related Crashes')\n",
    "fig.show()"
   ]
  },
  {
   "cell_type": "code",
   "execution_count": null,
   "id": "5c8f37bc-5ba0-4c1a-be99-982eae56dc92",
   "metadata": {},
   "outputs": [],
   "source": []
  },
  {
   "cell_type": "markdown",
   "id": "9ad97788-67ff-48bd-a23a-a6978e288c8d",
   "metadata": {},
   "source": [
    "#### 5. Create a bar chart comparing insurance premiums vs insurance losses by state.\n",
    "Hint: plt.bar(), sns.barplot() or px.bar()."
   ]
  },
  {
   "cell_type": "code",
   "execution_count": null,
   "id": "2cc0fb9a-bcd4-4ed2-b501-130ec8a1318d",
   "metadata": {},
   "outputs": [],
   "source": [
    "# Seaborn approach\n",
    "plt.figure(figsize=(12, 6))\n",
    "car_crashes_melted = car_crashes.melt(id_vars=['abbrev'], \n",
    "                                      value_vars=['ins_premium', 'ins_losses'],\n",
    "                                      var_name='insurance_type', \n",
    "                                      value_name='amount')\n",
    "sns.barplot(data=car_crashes_melted, x='abbrev', y='amount', hue='insurance_type')\n",
    "plt.title('Insurance Premiums vs Insurance Losses by State')\n",
    "plt.xlabel('State')\n",
    "plt.ylabel('Amount')\n",
    "plt.xticks(rotation=45)\n",
    "plt.show()\n",
    "\n",
    "# Plotly Express approach\n",
    "fig = px.bar(car_crashes_melted, x='abbrev', y='amount', \n",
    "             color='insurance_type',\n",
    "             title='Insurance Premiums vs Insurance Losses by State',\n",
    "             barmode='group')\n",
    "fig.update_layout(xaxis_title='State', yaxis_title='Amount')\n",
    "fig.show()"
   ]
  },
  {
   "cell_type": "code",
   "execution_count": null,
   "id": "b2c7d144-4e4c-491c-b6f8-1afe4e904984",
   "metadata": {},
   "outputs": [],
   "source": []
  },
  {
   "cell_type": "markdown",
   "id": "ad65f662-5686-4f2f-9d8e-6973eb1d0435",
   "metadata": {},
   "source": [
    "### If you selected the `chlorophyll` dataset"
   ]
  },
  {
   "cell_type": "markdown",
   "id": "15a151da-8e6e-4f9d-bce1-ec2c5f326a59",
   "metadata": {},
   "source": [
    "#### 1. Create a histogram of chlorophyll-a predictions to see the distribution of concentration levels.\n",
    "Hint: plt.hist(), sns.histplot() or px.histogram()."
   ]
  },
  {
   "cell_type": "code",
   "execution_count": null,
   "id": "976f0fbf-ecea-487d-82ec-59932e093af3",
   "metadata": {},
   "outputs": [],
   "source": [
    "# Seaborn approach\n",
    "plt.figure(figsize=(8, 6))\n",
    "sns.histplot(data=chla, x='predictions')\n",
    "plt.title('Distribution of Chlorophyll-a Concentration Levels')\n",
    "plt.xlabel('Chlorophyll-a Predictions (µg/L)')\n",
    "plt.ylabel('Count')\n",
    "plt.show()\n",
    "\n",
    "# Plotly Express approach\n",
    "fig = px.histogram(chla, x='predictions',\n",
    "                   title='Distribution of Chlorophyll-a Concentration Levels')\n",
    "fig.update_layout(xaxis_title='Chlorophyll-a Predictions (µg/L)', yaxis_title='Count')\n",
    "fig.show()"
   ]
  },
  {
   "cell_type": "code",
   "execution_count": null,
   "id": "12e153f5-f0be-475f-927c-1e010246a169",
   "metadata": {},
   "outputs": [],
   "source": []
  },
  {
   "cell_type": "markdown",
   "id": "3ec74fa0-68ca-4a3c-8e47-4f2ac0f5b575",
   "metadata": {},
   "source": [
    "#### 2. Make a scatter plot showing the geographic distribution of water bodies using longitude and latitude coordinates.\n",
    "Hint: plt.scatter(), sns.scatterplot() or px.scatter()."
   ]
  },
  {
   "cell_type": "code",
   "execution_count": null,
   "id": "f788be5f-e352-448e-bae0-c1b8f186620b",
   "metadata": {},
   "outputs": [],
   "source": [
    "# Seaborn approach\n",
    "plt.figure(figsize=(10, 6))\n",
    "sns.scatterplot(data=chla, x='centroid_longitude', y='centroid_latitude')\n",
    "plt.title('Geographic Distribution of Water Bodies')\n",
    "plt.xlabel('Longitude')\n",
    "plt.ylabel('Latitude')\n",
    "plt.show()\n",
    "\n",
    "# Plotly Express approach\n",
    "fig = px.scatter(chla, x='centroid_longitude', y='centroid_latitude',\n",
    "                 title='Geographic Distribution of Water Bodies')\n",
    "fig.update_layout(xaxis_title='Longitude', yaxis_title='Latitude')\n",
    "fig.show()"
   ]
  },
  {
   "cell_type": "code",
   "execution_count": null,
   "id": "a0a81955-1243-4202-a914-de08d690a966",
   "metadata": {},
   "outputs": [],
   "source": []
  },
  {
   "cell_type": "markdown",
   "id": "19aaf437-39d0-4314-af0a-1f24092ef434",
   "metadata": {},
   "source": [
    "#### 3. Create a line plot showing how chlorophyll-a predictions change over time (by date_acquired).\n",
    "Hint: plt.plot(), sns.lineplot() or px.line()."
   ]
  },
  {
   "cell_type": "code",
   "execution_count": null,
   "id": "247c810f-984b-418f-806c-1b38221a79eb",
   "metadata": {},
   "outputs": [],
   "source": [
    "# Seaborn approach\n",
    "plt.figure(figsize=(10, 6))\n",
    "sns.lineplot(data=chla.sort_values('date_acquired'), x='date_acquired', y='predictions')\n",
    "plt.title('Chlorophyll-a Predictions Over Time')\n",
    "plt.xlabel('Date Acquired')\n",
    "plt.ylabel('Chlorophyll-a Predictions (µg/L)')\n",
    "plt.xticks(rotation=45)\n",
    "plt.show()\n",
    "\n",
    "# Plotly Express approach\n",
    "fig = px.line(chla.sort_values('date_acquired'), x='date_acquired', y='predictions',\n",
    "              title='Chlorophyll-a Predictions Over Time')\n",
    "fig.update_layout(xaxis_title='Date Acquired', yaxis_title='Chlorophyll-a Predictions (µg/L)')\n",
    "fig.show()"
   ]
  },
  {
   "cell_type": "code",
   "execution_count": null,
   "id": "61014a72-ca72-4c07-ba05-2e34a9e5077b",
   "metadata": {},
   "outputs": [],
   "source": []
  },
  {
   "cell_type": "markdown",
   "id": "f9bcb2dd-2725-46a7-8b3d-7618345815c8",
   "metadata": {},
   "source": [
    "#### 4. Make a box plot comparing chlorophyll-a predictions across different water bodies (top 10 most frequent).\n",
    "Hint: plt.boxplot(), sns.boxplot() or px.box()."
   ]
  },
  {
   "cell_type": "code",
   "execution_count": null,
   "id": "83ea44e5-9525-447d-980e-f77bce89d335",
   "metadata": {},
   "outputs": [],
   "source": [
    "# Get top 10 most frequent water bodies\n",
    "top_10_waterbodies = chla['gnis_name'].value_counts().head(10).index\n",
    "chla_top10 = chla[chla['gnis_name'].isin(top_10_waterbodies)]\n",
    "\n",
    "# Seaborn approach\n",
    "plt.figure(figsize=(12, 6))\n",
    "sns.boxplot(data=chla_top10, x='gnis_name', y='predictions')\n",
    "plt.title('Chlorophyll-a Predictions by Water Body (Top 10 Most Frequent)')\n",
    "plt.xlabel('Water Body')\n",
    "plt.ylabel('Chlorophyll-a Predictions (µg/L)')\n",
    "plt.xticks(rotation=45)\n",
    "plt.show()\n",
    "\n",
    "# Plotly Express approach\n",
    "fig = px.box(chla_top10, x='gnis_name', y='predictions',\n",
    "             title='Chlorophyll-a Predictions by Water Body (Top 10 Most Frequent)')\n",
    "fig.update_layout(xaxis_title='Water Body', yaxis_title='Chlorophyll-a Predictions (µg/L)')\n",
    "fig.update_xaxes(tickangle=45)\n",
    "fig.show()"
   ]
  },
  {
   "cell_type": "code",
   "execution_count": null,
   "id": "adb44df5-591c-4167-a8bf-56704b0d86c0",
   "metadata": {},
   "outputs": [],
   "source": []
  },
  {
   "cell_type": "markdown",
   "id": "a9fb8047-d796-4ec9-9599-f357a68d5339",
   "metadata": {},
   "source": [
    "#### 5. Create a scatter plot comparing longitude vs chlorophyll-a predictions, with different colors for different concentration ranges.\n",
    "Hint: plt.scatter(), sns.scatterplot() or px.scatter()."
   ]
  },
  {
   "cell_type": "code",
   "execution_count": null,
   "id": "a7d37cc3-cdb8-434b-abac-d72c66e6f7b5",
   "metadata": {},
   "outputs": [],
   "source": [
    "# Create concentration ranges\n",
    "chla['concentration_range'] = pd.cut(chla['predictions'], \n",
    "                                    bins=[0, 10, 25, 50, float('inf')], \n",
    "                                    labels=['Low (0-10)', 'Medium (10-25)', 'High (25-50)', 'Very High (50+)'])\n",
    "\n",
    "# Seaborn approach\n",
    "plt.figure(figsize=(10, 6))\n",
    "sns.scatterplot(data=chla, x='centroid_longitude', y='predictions', hue='concentration_range')\n",
    "plt.title('Longitude vs Chlorophyll-a Predictions by Concentration Range')\n",
    "plt.xlabel('Longitude')\n",
    "plt.ylabel('Chlorophyll-a Predictions (µg/L)')\n",
    "plt.show()\n",
    "\n",
    "# Plotly Express approach\n",
    "fig = px.scatter(chla, x='centroid_longitude', y='predictions', \n",
    "                 color='concentration_range',\n",
    "                 title='Longitude vs Chlorophyll-a Predictions by Concentration Range')\n",
    "fig.update_layout(xaxis_title='Longitude', yaxis_title='Chlorophyll-a Predictions (µg/L)')\n",
    "fig.show()"
   ]
  },
  {
   "cell_type": "markdown",
   "id": "e78580be-8487-4d36-92e9-92f1988f413a",
   "metadata": {},
   "source": []
  },
  {
   "cell_type": "markdown",
   "id": "90955b56-3ee7-4c42-b90d-b96a5d717e4d",
   "metadata": {},
   "source": [
    "### If you selected a different dataset"
   ]
  },
  {
   "cell_type": "markdown",
   "id": "2d73dd91-d738-468f-94e3-d63284dba030",
   "metadata": {},
   "source": [
    "- What are the 5 most important insights we can get from this?"
   ]
  },
  {
   "cell_type": "code",
   "execution_count": null,
   "id": "7c12b3f7-2730-4696-b9cc-463c461e26ac",
   "metadata": {},
   "outputs": [],
   "source": []
  }
 ],
 "metadata": {
  "kernelspec": {
   "display_name": "showyourwork",
   "language": "python",
   "name": "showyourwork"
  },
  "language_info": {
   "codemirror_mode": {
    "name": "ipython",
    "version": 3
   },
   "file_extension": ".py",
   "mimetype": "text/x-python",
   "name": "python",
   "nbconvert_exporter": "python",
   "pygments_lexer": "ipython3",
   "version": "3.12.9"
  },
  "panel-cell-order": [
   "7f0f1391-a1e1-494e-9911-495990d09d71",
   "07adf396-ba3a-417f-9cf7-912498d8803d",
   "0689046b-e327-4c73-965a-4c63af8af2e1"
  ]
 },
 "nbformat": 4,
 "nbformat_minor": 5
}
