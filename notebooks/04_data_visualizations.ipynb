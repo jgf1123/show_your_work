{
 "cells": [
  {
   "cell_type": "markdown",
   "id": "7f0f1391-a1e1-494e-9911-495990d09d71",
   "metadata": {
    "panel-layout": {
     "height": 50.8203125,
     "visible": true,
     "width": 100
    }
   },
   "source": [
    "## Jupyter notebooks"
   ]
  },
  {
   "cell_type": "markdown",
   "id": "bad4e04a-5204-444c-b3cd-fb5a708e9a25",
   "metadata": {},
   "source": [
    "Documentation: https://docs.jupyter.org/en/latest/"
   ]
  },
  {
   "cell_type": "markdown",
   "id": "c4b22695-64f4-42c0-8db4-96ca08ce9e20",
   "metadata": {},
   "source": [
    "Jupyter notebooks may easily be the most deployed type of web application in Python!\n",
    "\n",
    "<img src=\"https://jupyter.org/assets/homepage/main-logo.svg\" alt=\"Jupyter Logo\" width=\"200\"/>"
   ]
  },
  {
   "cell_type": "markdown",
   "id": "66428e3f-903d-4652-8037-32a43ebc72bf",
   "metadata": {
    "vscode": {
     "languageId": "markdown"
    }
   },
   "source": [
    "Jupyter notebooks support two main types of cells:\n",
    "\n",
    "- **Code Cells**: Used to write and execute code (e.g., Python, R). The output appears directly below the cell.\n",
    "- **Markdown Cells**: Used for formatted text, documentation, equations (LaTeX), images, and links.\n",
    "- **Raw Cells**: Contain plain text that is not executed or rendered as Markdown. Useful for notes, instructions, or content to be processed by external tools.\n",
    "\n",
    "You can switch between cell types using the toolbar or keyboard shortcuts."
   ]
  },
  {
   "cell_type": "markdown",
   "id": "049d98ca-daeb-49d4-9b0d-a964c3bd531f",
   "metadata": {
    "vscode": {
     "languageId": "markdown"
    }
   },
   "source": [
    "#### Jupyter Server and Kernel\n",
    "\n",
    "- **Jupyter Server**: The Jupyter server is the backend application that manages your notebooks, files, and computational resources. It provides the web interface, handles requests from your browser, and communicates with kernels to execute code. When you start Jupyter Notebook or JupyterLab, you are launching a Jupyter server.\n",
    "\n",
    "- **Kernel**: A kernel is a separate process that runs and executes your code. Each notebook is connected to a kernel, which can be for different programming languages (e.g., Python, R, Julia). The kernel receives code from the notebook interface, executes it, and returns the output (results, plots, errors) back to the notebook.\n",
    "\n",
    "**How they work together:**  \n",
    "When you run a code cell in a notebook, the Jupyter server sends the code to the kernel. The kernel executes the code and sends the output back to the server, which then displays it in your browser."
   ]
  },
  {
   "cell_type": "code",
   "execution_count": 1,
   "id": "ecb2d63b-b53c-4302-baf5-a4f900056b4e",
   "metadata": {},
   "outputs": [],
   "source": [
    "import pandas as pd\n",
    "import matplotlib.pyplot as plt\n",
    "import seaborn as sns\n",
    "import plotly.express as px"
   ]
  },
  {
   "cell_type": "code",
   "execution_count": null,
   "id": "a5751756",
   "metadata": {},
   "outputs": [],
   "source": []
  },
  {
   "cell_type": "markdown",
   "id": "958ff6dd",
   "metadata": {},
   "source": [
    "#### Understanding the available datasets"
   ]
  },
  {
   "cell_type": "markdown",
   "id": "f8c65b47",
   "metadata": {},
   "source": [
    "#### 1. Penguins datset\n",
    "\n",
    "- The penguins dataset contains measurements for three species of penguins (Adelie, Chinstrap, Gentoo) observed on different islands in the Palmer Archipelago, Antarctica.\n",
    "- It includes features such as bill length and depth, flipper length, body mass, sex, and species.\n",
    "- This dataset is commonly used for data visualization and machine learning exercises as an alternative to the classic iris dataset.\n",
    "- It provides a real-world example for exploring classification, visualization, and data cleaning techniques."
   ]
  },
  {
   "cell_type": "code",
   "execution_count": 2,
   "id": "7c4c2afc-7d9d-4249-b107-46cb56d70e5b",
   "metadata": {},
   "outputs": [],
   "source": [
    "penguins_df = pd.read_csv('data/penguins.csv')"
   ]
  },
  {
   "cell_type": "code",
   "execution_count": 3,
   "id": "135ecbd5",
   "metadata": {},
   "outputs": [
    {
     "data": {
      "text/html": [
       "<div>\n",
       "<style scoped>\n",
       "    .dataframe tbody tr th:only-of-type {\n",
       "        vertical-align: middle;\n",
       "    }\n",
       "\n",
       "    .dataframe tbody tr th {\n",
       "        vertical-align: top;\n",
       "    }\n",
       "\n",
       "    .dataframe thead th {\n",
       "        text-align: right;\n",
       "    }\n",
       "</style>\n",
       "<table border=\"1\" class=\"dataframe\">\n",
       "  <thead>\n",
       "    <tr style=\"text-align: right;\">\n",
       "      <th></th>\n",
       "      <th>species</th>\n",
       "      <th>island</th>\n",
       "      <th>bill_length_mm</th>\n",
       "      <th>bill_depth_mm</th>\n",
       "      <th>flipper_length_mm</th>\n",
       "      <th>body_mass_g</th>\n",
       "      <th>sex</th>\n",
       "    </tr>\n",
       "  </thead>\n",
       "  <tbody>\n",
       "    <tr>\n",
       "      <th>0</th>\n",
       "      <td>Adelie</td>\n",
       "      <td>Torgersen</td>\n",
       "      <td>39.1</td>\n",
       "      <td>18.7</td>\n",
       "      <td>181.0</td>\n",
       "      <td>3750.0</td>\n",
       "      <td>MALE</td>\n",
       "    </tr>\n",
       "    <tr>\n",
       "      <th>1</th>\n",
       "      <td>Adelie</td>\n",
       "      <td>Torgersen</td>\n",
       "      <td>39.5</td>\n",
       "      <td>17.4</td>\n",
       "      <td>186.0</td>\n",
       "      <td>3800.0</td>\n",
       "      <td>FEMALE</td>\n",
       "    </tr>\n",
       "    <tr>\n",
       "      <th>2</th>\n",
       "      <td>Adelie</td>\n",
       "      <td>Torgersen</td>\n",
       "      <td>40.3</td>\n",
       "      <td>18.0</td>\n",
       "      <td>195.0</td>\n",
       "      <td>3250.0</td>\n",
       "      <td>FEMALE</td>\n",
       "    </tr>\n",
       "    <tr>\n",
       "      <th>3</th>\n",
       "      <td>Adelie</td>\n",
       "      <td>Torgersen</td>\n",
       "      <td>NaN</td>\n",
       "      <td>NaN</td>\n",
       "      <td>NaN</td>\n",
       "      <td>NaN</td>\n",
       "      <td>NaN</td>\n",
       "    </tr>\n",
       "    <tr>\n",
       "      <th>4</th>\n",
       "      <td>Adelie</td>\n",
       "      <td>Torgersen</td>\n",
       "      <td>36.7</td>\n",
       "      <td>19.3</td>\n",
       "      <td>193.0</td>\n",
       "      <td>3450.0</td>\n",
       "      <td>FEMALE</td>\n",
       "    </tr>\n",
       "  </tbody>\n",
       "</table>\n",
       "</div>"
      ],
      "text/plain": [
       "  species     island  bill_length_mm  bill_depth_mm  flipper_length_mm  \\\n",
       "0  Adelie  Torgersen            39.1           18.7              181.0   \n",
       "1  Adelie  Torgersen            39.5           17.4              186.0   \n",
       "2  Adelie  Torgersen            40.3           18.0              195.0   \n",
       "3  Adelie  Torgersen             NaN            NaN                NaN   \n",
       "4  Adelie  Torgersen            36.7           19.3              193.0   \n",
       "\n",
       "   body_mass_g     sex  \n",
       "0       3750.0    MALE  \n",
       "1       3800.0  FEMALE  \n",
       "2       3250.0  FEMALE  \n",
       "3          NaN     NaN  \n",
       "4       3450.0  FEMALE  "
      ]
     },
     "execution_count": 3,
     "metadata": {},
     "output_type": "execute_result"
    }
   ],
   "source": [
    "penguins_df.head()"
   ]
  },
  {
   "cell_type": "code",
   "execution_count": null,
   "id": "e43a41f8-0ddf-4446-b77d-4c94e20ec51d",
   "metadata": {},
   "outputs": [],
   "source": []
  },
  {
   "cell_type": "markdown",
   "id": "2741ccd9",
   "metadata": {
    "vscode": {
     "languageId": "markdown"
    }
   },
   "source": [
    "#### 2. Car Crashes Dataset\n",
    "\n",
    "- The car crashes dataset contains data on traffic accidents, including the number of crashes, injuries, and fatalities by state or region.\n",
    "- It typically includes features such as total crashes, alcohol-involved crashes, speeding-related crashes, and population statistics.\n",
    "- This dataset is widely used for data visualization, exploratory data analysis, and statistical modeling to understand factors contributing to road accidents.\n",
    "- It provides a practical example for learning about correlation, regression, and geospatial analysis in Python."
   ]
  },
  {
   "cell_type": "code",
   "execution_count": 4,
   "id": "a873b7d1",
   "metadata": {},
   "outputs": [
    {
     "data": {
      "text/html": [
       "<div>\n",
       "<style scoped>\n",
       "    .dataframe tbody tr th:only-of-type {\n",
       "        vertical-align: middle;\n",
       "    }\n",
       "\n",
       "    .dataframe tbody tr th {\n",
       "        vertical-align: top;\n",
       "    }\n",
       "\n",
       "    .dataframe thead th {\n",
       "        text-align: right;\n",
       "    }\n",
       "</style>\n",
       "<table border=\"1\" class=\"dataframe\">\n",
       "  <thead>\n",
       "    <tr style=\"text-align: right;\">\n",
       "      <th></th>\n",
       "      <th>total</th>\n",
       "      <th>speeding</th>\n",
       "      <th>alcohol</th>\n",
       "      <th>not_distracted</th>\n",
       "      <th>no_previous</th>\n",
       "      <th>ins_premium</th>\n",
       "      <th>ins_losses</th>\n",
       "      <th>abbrev</th>\n",
       "    </tr>\n",
       "  </thead>\n",
       "  <tbody>\n",
       "    <tr>\n",
       "      <th>0</th>\n",
       "      <td>18.8</td>\n",
       "      <td>7.332</td>\n",
       "      <td>5.640</td>\n",
       "      <td>18.048</td>\n",
       "      <td>15.040</td>\n",
       "      <td>784.55</td>\n",
       "      <td>145.08</td>\n",
       "      <td>AL</td>\n",
       "    </tr>\n",
       "    <tr>\n",
       "      <th>1</th>\n",
       "      <td>18.1</td>\n",
       "      <td>7.421</td>\n",
       "      <td>4.525</td>\n",
       "      <td>16.290</td>\n",
       "      <td>17.014</td>\n",
       "      <td>1053.48</td>\n",
       "      <td>133.93</td>\n",
       "      <td>AK</td>\n",
       "    </tr>\n",
       "    <tr>\n",
       "      <th>2</th>\n",
       "      <td>18.6</td>\n",
       "      <td>6.510</td>\n",
       "      <td>5.208</td>\n",
       "      <td>15.624</td>\n",
       "      <td>17.856</td>\n",
       "      <td>899.47</td>\n",
       "      <td>110.35</td>\n",
       "      <td>AZ</td>\n",
       "    </tr>\n",
       "    <tr>\n",
       "      <th>3</th>\n",
       "      <td>22.4</td>\n",
       "      <td>4.032</td>\n",
       "      <td>5.824</td>\n",
       "      <td>21.056</td>\n",
       "      <td>21.280</td>\n",
       "      <td>827.34</td>\n",
       "      <td>142.39</td>\n",
       "      <td>AR</td>\n",
       "    </tr>\n",
       "    <tr>\n",
       "      <th>4</th>\n",
       "      <td>12.0</td>\n",
       "      <td>4.200</td>\n",
       "      <td>3.360</td>\n",
       "      <td>10.920</td>\n",
       "      <td>10.680</td>\n",
       "      <td>878.41</td>\n",
       "      <td>165.63</td>\n",
       "      <td>CA</td>\n",
       "    </tr>\n",
       "    <tr>\n",
       "      <th>5</th>\n",
       "      <td>13.6</td>\n",
       "      <td>5.032</td>\n",
       "      <td>3.808</td>\n",
       "      <td>10.744</td>\n",
       "      <td>12.920</td>\n",
       "      <td>835.50</td>\n",
       "      <td>139.91</td>\n",
       "      <td>CO</td>\n",
       "    </tr>\n",
       "    <tr>\n",
       "      <th>6</th>\n",
       "      <td>10.8</td>\n",
       "      <td>4.968</td>\n",
       "      <td>3.888</td>\n",
       "      <td>9.396</td>\n",
       "      <td>8.856</td>\n",
       "      <td>1068.73</td>\n",
       "      <td>167.02</td>\n",
       "      <td>CT</td>\n",
       "    </tr>\n",
       "    <tr>\n",
       "      <th>7</th>\n",
       "      <td>16.2</td>\n",
       "      <td>6.156</td>\n",
       "      <td>4.860</td>\n",
       "      <td>14.094</td>\n",
       "      <td>16.038</td>\n",
       "      <td>1137.87</td>\n",
       "      <td>151.48</td>\n",
       "      <td>DE</td>\n",
       "    </tr>\n",
       "    <tr>\n",
       "      <th>8</th>\n",
       "      <td>5.9</td>\n",
       "      <td>2.006</td>\n",
       "      <td>1.593</td>\n",
       "      <td>5.900</td>\n",
       "      <td>5.900</td>\n",
       "      <td>1273.89</td>\n",
       "      <td>136.05</td>\n",
       "      <td>DC</td>\n",
       "    </tr>\n",
       "    <tr>\n",
       "      <th>9</th>\n",
       "      <td>17.9</td>\n",
       "      <td>3.759</td>\n",
       "      <td>5.191</td>\n",
       "      <td>16.468</td>\n",
       "      <td>16.826</td>\n",
       "      <td>1160.13</td>\n",
       "      <td>144.18</td>\n",
       "      <td>FL</td>\n",
       "    </tr>\n",
       "  </tbody>\n",
       "</table>\n",
       "</div>"
      ],
      "text/plain": [
       "   total  speeding  alcohol  not_distracted  no_previous  ins_premium  \\\n",
       "0   18.8     7.332    5.640          18.048       15.040       784.55   \n",
       "1   18.1     7.421    4.525          16.290       17.014      1053.48   \n",
       "2   18.6     6.510    5.208          15.624       17.856       899.47   \n",
       "3   22.4     4.032    5.824          21.056       21.280       827.34   \n",
       "4   12.0     4.200    3.360          10.920       10.680       878.41   \n",
       "5   13.6     5.032    3.808          10.744       12.920       835.50   \n",
       "6   10.8     4.968    3.888           9.396        8.856      1068.73   \n",
       "7   16.2     6.156    4.860          14.094       16.038      1137.87   \n",
       "8    5.9     2.006    1.593           5.900        5.900      1273.89   \n",
       "9   17.9     3.759    5.191          16.468       16.826      1160.13   \n",
       "\n",
       "   ins_losses abbrev  \n",
       "0      145.08     AL  \n",
       "1      133.93     AK  \n",
       "2      110.35     AZ  \n",
       "3      142.39     AR  \n",
       "4      165.63     CA  \n",
       "5      139.91     CO  \n",
       "6      167.02     CT  \n",
       "7      151.48     DE  \n",
       "8      136.05     DC  \n",
       "9      144.18     FL  "
      ]
     },
     "execution_count": 4,
     "metadata": {},
     "output_type": "execute_result"
    }
   ],
   "source": [
    "# Load and explore the penguins dataset\n",
    "car_crashes = pd.read_csv('data/car_crashes.csv')\n",
    "\n",
    "car_crashes.head(10)"
   ]
  },
  {
   "cell_type": "code",
   "execution_count": null,
   "id": "22968393",
   "metadata": {},
   "outputs": [],
   "source": []
  },
  {
   "cell_type": "markdown",
   "id": "c3971538",
   "metadata": {},
   "source": [
    "#### 3. Chlorophyll Concentration Analysis"
   ]
  },
  {
   "cell_type": "markdown",
   "id": "235eef18",
   "metadata": {},
   "source": [
    "The `data/chla_subset.csv` dataset contains chlorophyll-a (chla) predictions for various water bodies, such as lakes and reservoirs. Each row represents a measurement event, including the following columns:\n",
    "\n",
    "- `gnis_name`: Name of the water body (e.g., \"Pepacton Reservoir\", \"Lake Montauk\").\n",
    "- `comid`: Unique identifier for the water body.\n",
    "- `centroid_longitude` and `centroid_latitude`: Geographic coordinates of the water body's centroid.\n",
    "- `date_acquired`: Date when the measurement or prediction was made.\n",
    "- `predictions`: Predicted chlorophyll-a concentration (likely in µg/L).\n",
    "\n",
    "This dataset is useful for analyzing spatial and temporal patterns of chlorophyll-a, which is an important indicator of water quality and algal biomass."
   ]
  },
  {
   "cell_type": "code",
   "execution_count": 5,
   "id": "8d138dba",
   "metadata": {},
   "outputs": [
    {
     "data": {
      "text/html": [
       "<div>\n",
       "<style scoped>\n",
       "    .dataframe tbody tr th:only-of-type {\n",
       "        vertical-align: middle;\n",
       "    }\n",
       "\n",
       "    .dataframe tbody tr th {\n",
       "        vertical-align: top;\n",
       "    }\n",
       "\n",
       "    .dataframe thead th {\n",
       "        text-align: right;\n",
       "    }\n",
       "</style>\n",
       "<table border=\"1\" class=\"dataframe\">\n",
       "  <thead>\n",
       "    <tr style=\"text-align: right;\">\n",
       "      <th></th>\n",
       "      <th>gnis_name</th>\n",
       "      <th>comid</th>\n",
       "      <th>centroid_longitude</th>\n",
       "      <th>centroid_latitude</th>\n",
       "      <th>date_acquired</th>\n",
       "      <th>predictions</th>\n",
       "    </tr>\n",
       "  </thead>\n",
       "  <tbody>\n",
       "    <tr>\n",
       "      <th>0</th>\n",
       "      <td>Pepacton Reservoir</td>\n",
       "      <td>1748473</td>\n",
       "      <td>-74.870663</td>\n",
       "      <td>42.088258</td>\n",
       "      <td>2015-01-05</td>\n",
       "      <td>2.964900</td>\n",
       "    </tr>\n",
       "    <tr>\n",
       "      <th>1</th>\n",
       "      <td>Pepacton Reservoir</td>\n",
       "      <td>1748473</td>\n",
       "      <td>-74.870663</td>\n",
       "      <td>42.088258</td>\n",
       "      <td>2015-03-11</td>\n",
       "      <td>22.475675</td>\n",
       "    </tr>\n",
       "    <tr>\n",
       "      <th>2</th>\n",
       "      <td>Pepacton Reservoir</td>\n",
       "      <td>1748473</td>\n",
       "      <td>-74.870663</td>\n",
       "      <td>42.088258</td>\n",
       "      <td>2015-03-02</td>\n",
       "      <td>9.916317</td>\n",
       "    </tr>\n",
       "    <tr>\n",
       "      <th>3</th>\n",
       "      <td>Pepacton Reservoir</td>\n",
       "      <td>1748473</td>\n",
       "      <td>-74.870663</td>\n",
       "      <td>42.088258</td>\n",
       "      <td>2015-02-23</td>\n",
       "      <td>22.137733</td>\n",
       "    </tr>\n",
       "    <tr>\n",
       "      <th>4</th>\n",
       "      <td>Pepacton Reservoir</td>\n",
       "      <td>1748473</td>\n",
       "      <td>-74.870663</td>\n",
       "      <td>42.088258</td>\n",
       "      <td>2015-03-11</td>\n",
       "      <td>22.475675</td>\n",
       "    </tr>\n",
       "  </tbody>\n",
       "</table>\n",
       "</div>"
      ],
      "text/plain": [
       "            gnis_name    comid  centroid_longitude  centroid_latitude  \\\n",
       "0  Pepacton Reservoir  1748473          -74.870663          42.088258   \n",
       "1  Pepacton Reservoir  1748473          -74.870663          42.088258   \n",
       "2  Pepacton Reservoir  1748473          -74.870663          42.088258   \n",
       "3  Pepacton Reservoir  1748473          -74.870663          42.088258   \n",
       "4  Pepacton Reservoir  1748473          -74.870663          42.088258   \n",
       "\n",
       "  date_acquired  predictions  \n",
       "0    2015-01-05     2.964900  \n",
       "1    2015-03-11    22.475675  \n",
       "2    2015-03-02     9.916317  \n",
       "3    2015-02-23    22.137733  \n",
       "4    2015-03-11    22.475675  "
      ]
     },
     "metadata": {},
     "output_type": "display_data"
    }
   ],
   "source": [
    "# Load and describe the chla dataset\n",
    "chla = pd.read_csv('data/chla_subset.csv')\n",
    "chla['date_acquired'] = pd.to_datetime(chla['date_acquired'])\n",
    "\n",
    "# Show the first few rows\n",
    "display(chla.head())"
   ]
  },
  {
   "cell_type": "code",
   "execution_count": null,
   "id": "6d9f9641-37e3-4aa4-845c-dd752cee7d5f",
   "metadata": {},
   "outputs": [],
   "source": []
  },
  {
   "cell_type": "markdown",
   "id": "75c18dd3-c550-4e78-b8f6-31263666f848",
   "metadata": {},
   "source": [
    "### 4. Any other dataset of your choice"
   ]
  },
  {
   "cell_type": "markdown",
   "id": "cce71a7e-d7df-4d91-bf49-92565ef7cb45",
   "metadata": {},
   "source": [
    "Here're some Seaborn datasets for inspiration: https://github.com/mwaskom/seaborn-data"
   ]
  },
  {
   "cell_type": "code",
   "execution_count": null,
   "id": "486b936e-149b-4ad7-b178-0438ab78c1a1",
   "metadata": {},
   "outputs": [],
   "source": []
  },
  {
   "cell_type": "markdown",
   "id": "59b07fcf-b3c9-4d92-8d1d-6c2405e09ee4",
   "metadata": {},
   "source": [
    "## Exercise!\n",
    "\n",
    "#### Objective: Create some data visualizations that we can reuse for the rest of the tutorial."
   ]
  },
  {
   "cell_type": "markdown",
   "id": "df70d1f2-b330-4c87-ac1d-92b6990e8d45",
   "metadata": {},
   "source": [
    "### If you selected the `Penguins` dataset"
   ]
  },
  {
   "cell_type": "markdown",
   "id": "80a4de3e-2cad-4ff5-8ca0-7a0f8fb3f28b",
   "metadata": {},
   "source": [
    "#### 1. Create a bar chart showing how many penguins of each species are in the dataset.\n",
    "Hint: plt.bar(), sns.countplot() or px.bar()."
   ]
  },
  {
   "cell_type": "code",
   "execution_count": 10,
   "id": "dbbfdaa5-0a8b-4385-a1e1-a109ec2618ad",
   "metadata": {},
   "outputs": [
    {
     "data": {
      "image/png": "[encoded data removed]",
      "text/plain": [
       "<Figure size 800x600 with 1 Axes>"
      ]
     },
     "metadata": {},
     "output_type": "display_data"
    }
   ],
   "source": [
    "plt.figure(figsize=(8, 6))\n",
    "ax = sns.countplot(data=penguins_df, x='species')\n",
    "plt.title('Number of Penguins by Species')\n",
    "plt.xlabel('Species')\n",
    "plt.ylabel('Count')\n",
    "plt.show()\n",
    "\n",
    "fig = ax.figure"
   ]
  },
  {
   "cell_type": "code",
   "execution_count": 11,
   "id": "9a41f81e-1e6b-4ddd-b8a3-b7644b160e61",
   "metadata": {},
   "outputs": [
    {
     "data": {
      "application/vnd.plotly.v1+json": {
       "config": {
        "plotlyServerURL": "https://plot.ly"
       },
       "data": [
        {
         "hovertemplate": "species=%{x}<br>count=%{y}<extra></extra>",
         "legendgroup": "",
         "marker": {
          "color": "#636efa",
          "pattern": {
           "shape": ""
          }
         },
         "name": "",
         "orientation": "v",
         "showlegend": false,
         "textposition": "auto",
         "type": "bar",
         "x": [
          "Adelie",
          "Gentoo",
          "Chinstrap"
         ],
         "xaxis": "x",
         "y": {
          "bdata": "mAB8AEQA",
          "dtype": "i2"
         },
         "yaxis": "y"
        }
       ],
       "layout": {
        "barmode": "relative",
        "legend": {
         "tracegroupgap": 0
        },
        "template": {
         "data": {
          "bar": [
           {
            "error_x": {
             "color": "#2a3f5f"
            },
            "error_y": {
             "color": "#2a3f5f"
            },
            "marker": {
             "line": {
              "color": "#E5ECF6",
              "width": 0.5
             },
             "pattern": {
              "fillmode": "overlay",
              "size": 10,
              "solidity": 0.2
             }
            },
            "type": "bar"
           }
          ],
          "barpolar": [
           {
            "marker": {
             "line": {
              "color": "#E5ECF6",
              "width": 0.5
             },
             "pattern": {
              "fillmode": "overlay",
              "size": 10,
              "solidity": 0.2
             }
            },
            "type": "barpolar"
           }
          ],
          "carpet": [
           {
            "aaxis": {
             "endlinecolor": "#2a3f5f",
             "gridcolor": "white",
             "linecolor": "white",
             "minorgridcolor": "white",
             "startlinecolor": "#2a3f5f"
            },
            "baxis": {
             "endlinecolor": "#2a3f5f",
             "gridcolor": "white",
             "linecolor": "white",
             "minorgridcolor": "white",
             "startlinecolor": "#2a3f5f"
            },
            "type": "carpet"
           }
          ],
          "choropleth": [
           {
            "colorbar": {
             "outlinewidth": 0,
             "ticks": ""
            },
            "type": "choropleth"
           }
          ],
          "contour": [
           {
            "colorbar": {
             "outlinewidth": 0,
             "ticks": ""
            },
            "colorscale": [
             [
              0,
              "#0d0887"
             ],
             [
              0.1111111111111111,
              "#46039f"
             ],
             [
              0.2222222222222222,
              "#7201a8"
             ],
             [
              0.3333333333333333,
              "#9c179e"
             ],
             [
              0.4444444444444444,
              "#bd3786"
             ],
             [
              0.5555555555555556,
              "#d8576b"
             ],
             [
              0.6666666666666666,
              "#ed7953"
             ],
             [
              0.7777777777777778,
              "#fb9f3a"
             ],
             [
              0.8888888888888888,
              "#fdca26"
             ],
             [
              1,
              "#f0f921"
             ]
            ],
            "type": "contour"
           }
          ],
          "contourcarpet": [
           {
            "colorbar": {
             "outlinewidth": 0,
             "ticks": ""
            },
            "type": "contourcarpet"
           }
          ],
          "heatmap": [
           {
            "colorbar": {
             "outlinewidth": 0,
             "ticks": ""
            },
            "colorscale": [
             [
              0,
              "#0d0887"
             ],
             [
              0.1111111111111111,
              "#46039f"
             ],
             [
              0.2222222222222222,
              "#7201a8"
             ],
             [
              0.3333333333333333,
              "#9c179e"
             ],
             [
              0.4444444444444444,
              "#bd3786"
             ],
             [
              0.5555555555555556,
              "#d8576b"
             ],
             [
              0.6666666666666666,
              "#ed7953"
             ],
             [
              0.7777777777777778,
              "#fb9f3a"
             ],
             [
              0.8888888888888888,
              "#fdca26"
             ],
             [
              1,
              "#f0f921"
             ]
            ],
            "type": "heatmap"
           }
          ],
          "histogram": [
           {
            "marker": {
             "pattern": {
              "fillmode": "overlay",
              "size": 10,
              "solidity": 0.2
             }
            },
            "type": "histogram"
           }
          ],
          "histogram2d": [
           {
            "colorbar": {
             "outlinewidth": 0,
             "ticks": ""
            },
            "colorscale": [
             [
              0,
              "#0d0887"
             ],
             [
              0.1111111111111111,
              "#46039f"
             ],
             [
              0.2222222222222222,
              "#7201a8"
             ],
             [
              0.3333333333333333,
              "#9c179e"
             ],
             [
              0.4444444444444444,
              "#bd3786"
             ],
             [
              0.5555555555555556,
              "#d8576b"
             ],
             [
              0.6666666666666666,
              "#ed7953"
             ],
             [
              0.7777777777777778,
              "#fb9f3a"
             ],
             [
              0.8888888888888888,
              "#fdca26"
             ],
             [
              1,
              "#f0f921"
             ]
            ],
            "type": "histogram2d"
           }
          ],
          "histogram2dcontour": [
           {
            "colorbar": {
             "outlinewidth": 0,
             "ticks": ""
            },
            "colorscale": [
             [
              0,
              "#0d0887"
             ],
             [
              0.1111111111111111,
              "#46039f"
             ],
             [
              0.2222222222222222,
              "#7201a8"
             ],
             [
              0.3333333333333333,
              "#9c179e"
             ],
             [
              0.4444444444444444,
              "#bd3786"
             ],
             [
              0.5555555555555556,
              "#d8576b"
             ],
             [
              0.6666666666666666,
              "#ed7953"
             ],
             [
              0.7777777777777778,
              "#fb9f3a"
             ],
             [
              0.8888888888888888,
              "#fdca26"
             ],
             [
              1,
              "#f0f921"
             ]
            ],
            "type": "histogram2dcontour"
           }
          ],
          "mesh3d": [
           {
            "colorbar": {
             "outlinewidth": 0,
             "ticks": ""
            },
            "type": "mesh3d"
           }
          ],
          "parcoords": [
           {
            "line": {
             "colorbar": {
              "outlinewidth": 0,
              "ticks": ""
             }
            },
            "type": "parcoords"
           }
          ],
          "pie": [
           {
            "automargin": true,
            "type": "pie"
           }
          ],
          "scatter": [
           {
            "fillpattern": {
             "fillmode": "overlay",
             "size": 10,
             "solidity": 0.2
            },
            "type": "scatter"
           }
          ],
          "scatter3d": [
           {
            "line": {
             "colorbar": {
              "outlinewidth": 0,
              "ticks": ""
             }
            },
            "marker": {
             "colorbar": {
              "outlinewidth": 0,
              "ticks": ""
             }
            },
            "type": "scatter3d"
           }
          ],
          "scattercarpet": [
           {
            "marker": {
             "colorbar": {
              "outlinewidth": 0,
              "ticks": ""
             }
            },
            "type": "scattercarpet"
           }
          ],
          "scattergeo": [
           {
            "marker": {
             "colorbar": {
              "outlinewidth": 0,
              "ticks": ""
             }
            },
            "type": "scattergeo"
           }
          ],
          "scattergl": [
           {
            "marker": {
             "colorbar": {
              "outlinewidth": 0,
              "ticks": ""
             }
            },
            "type": "scattergl"
           }
          ],
          "scattermap": [
           {
            "marker": {
             "colorbar": {
              "outlinewidth": 0,
              "ticks": ""
             }
            },
            "type": "scattermap"
           }
          ],
          "scattermapbox": [
           {
            "marker": {
             "colorbar": {
              "outlinewidth": 0,
              "ticks": ""
             }
            },
            "type": "scattermapbox"
           }
          ],
          "scatterpolar": [
           {
            "marker": {
             "colorbar": {
              "outlinewidth": 0,
              "ticks": ""
             }
            },
            "type": "scatterpolar"
           }
          ],
          "scatterpolargl": [
           {
            "marker": {
             "colorbar": {
              "outlinewidth": 0,
              "ticks": ""
             }
            },
            "type": "scatterpolargl"
           }
          ],
          "scatterternary": [
           {
            "marker": {
             "colorbar": {
              "outlinewidth": 0,
              "ticks": ""
             }
            },
            "type": "scatterternary"
           }
          ],
          "surface": [
           {
            "colorbar": {
             "outlinewidth": 0,
             "ticks": ""
            },
            "colorscale": [
             [
              0,
              "#0d0887"
             ],
             [
              0.1111111111111111,
              "#46039f"
             ],
             [
              0.2222222222222222,
              "#7201a8"
             ],
             [
              0.3333333333333333,
              "#9c179e"
             ],
             [
              0.4444444444444444,
              "#bd3786"
             ],
             [
              0.5555555555555556,
              "#d8576b"
             ],
             [
              0.6666666666666666,
              "#ed7953"
             ],
             [
              0.7777777777777778,
              "#fb9f3a"
             ],
             [
              0.8888888888888888,
              "#fdca26"
             ],
             [
              1,
              "#f0f921"
             ]
            ],
            "type": "surface"
           }
          ],
          "table": [
           {
            "cells": {
             "fill": {
              "color": "#EBF0F8"
             },
             "line": {
              "color": "white"
             }
            },
            "header": {
             "fill": {
              "color": "#C8D4E3"
             },
             "line": {
              "color": "white"
             }
            },
            "type": "table"
           }
          ]
         },
         "layout": {
          "annotationdefaults": {
           "arrowcolor": "#2a3f5f",
           "arrowhead": 0,
           "arrowwidth": 1
          },
          "autotypenumbers": "strict",
          "coloraxis": {
           "colorbar": {
            "outlinewidth": 0,
            "ticks": ""
           }
          },
          "colorscale": {
           "diverging": [
            [
             0,
             "#8e0152"
            ],
            [
             0.1,
             "#c51b7d"
            ],
            [
             0.2,
             "#de77ae"
            ],
            [
             0.3,
             "#f1b6da"
            ],
            [
             0.4,
             "#fde0ef"
            ],
            [
             0.5,
             "#f7f7f7"
            ],
            [
             0.6,
             "#e6f5d0"
            ],
            [
             0.7,
             "#b8e186"
            ],
            [
             0.8,
             "#7fbc41"
            ],
            [
             0.9,
             "#4d9221"
            ],
            [
             1,
             "#276419"
            ]
           ],
           "sequential": [
            [
             0,
             "#0d0887"
            ],
            [
             0.1111111111111111,
             "#46039f"
            ],
            [
             0.2222222222222222,
             "#7201a8"
            ],
            [
             0.3333333333333333,
             "#9c179e"
            ],
            [
             0.4444444444444444,
             "#bd3786"
            ],
            [
             0.5555555555555556,
             "#d8576b"
            ],
            [
             0.6666666666666666,
             "#ed7953"
            ],
            [
             0.7777777777777778,
             "#fb9f3a"
            ],
            [
             0.8888888888888888,
             "#fdca26"
            ],
            [
             1,
             "#f0f921"
            ]
           ],
           "sequentialminus": [
            [
             0,
             "#0d0887"
            ],
            [
             0.1111111111111111,
             "#46039f"
            ],
            [
             0.2222222222222222,
             "#7201a8"
            ],
            [
             0.3333333333333333,
             "#9c179e"
            ],
            [
             0.4444444444444444,
             "#bd3786"
            ],
            [
             0.5555555555555556,
             "#d8576b"
            ],
            [
             0.6666666666666666,
             "#ed7953"
            ],
            [
             0.7777777777777778,
             "#fb9f3a"
            ],
            [
             0.8888888888888888,
             "#fdca26"
            ],
            [
             1,
             "#f0f921"
            ]
           ]
          },
          "colorway": [
           "#636efa",
           "#EF553B",
           "#00cc96",
           "#ab63fa",
           "#FFA15A",
           "#19d3f3",
           "#FF6692",
           "#B6E880",
           "#FF97FF",
           "#FECB52"
          ],
          "font": {
           "color": "#2a3f5f"
          },
          "geo": {
           "bgcolor": "white",
           "lakecolor": "white",
           "landcolor": "#E5ECF6",
           "showlakes": true,
           "showland": true,
           "subunitcolor": "white"
          },
          "hoverlabel": {
           "align": "left"
          },
          "hovermode": "closest",
          "mapbox": {
           "style": "light"
          },
          "paper_bgcolor": "white",
          "plot_bgcolor": "#E5ECF6",
          "polar": {
           "angularaxis": {
            "gridcolor": "white",
            "linecolor": "white",
            "ticks": ""
           },
           "bgcolor": "#E5ECF6",
           "radialaxis": {
            "gridcolor": "white",
            "linecolor": "white",
            "ticks": ""
           }
          },
          "scene": {
           "xaxis": {
            "backgroundcolor": "#E5ECF6",
            "gridcolor": "white",
            "gridwidth": 2,
            "linecolor": "white",
            "showbackground": true,
            "ticks": "",
            "zerolinecolor": "white"
           },
           "yaxis": {
            "backgroundcolor": "#E5ECF6",
            "gridcolor": "white",
            "gridwidth": 2,
            "linecolor": "white",
            "showbackground": true,
            "ticks": "",
            "zerolinecolor": "white"
           },
           "zaxis": {
            "backgroundcolor": "#E5ECF6",
            "gridcolor": "white",
            "gridwidth": 2,
            "linecolor": "white",
            "showbackground": true,
            "ticks": "",
            "zerolinecolor": "white"
           }
          },
          "shapedefaults": {
           "line": {
            "color": "#2a3f5f"
           }
          },
          "ternary": {
           "aaxis": {
            "gridcolor": "white",
            "linecolor": "white",
            "ticks": ""
           },
           "baxis": {
            "gridcolor": "white",
            "linecolor": "white",
            "ticks": ""
           },
           "bgcolor": "#E5ECF6",
           "caxis": {
            "gridcolor": "white",
            "linecolor": "white",
            "ticks": ""
           }
          },
          "title": {
           "x": 0.05
          },
          "xaxis": {
           "automargin": true,
           "gridcolor": "white",
           "linecolor": "white",
           "ticks": "",
           "title": {
            "standoff": 15
           },
           "zerolinecolor": "white",
           "zerolinewidth": 2
          },
          "yaxis": {
           "automargin": true,
           "gridcolor": "white",
           "linecolor": "white",
           "ticks": "",
           "title": {
            "standoff": 15
           },
           "zerolinecolor": "white",
           "zerolinewidth": 2
          }
         }
        },
        "title": {
         "text": "Number of Penguins by Species"
        },
        "xaxis": {
         "anchor": "y",
         "domain": [
          0,
          1
         ],
         "title": {
          "text": "Species"
         }
        },
        "yaxis": {
         "anchor": "x",
         "domain": [
          0,
          1
         ],
         "title": {
          "text": "Count"
         }
        }
       }
      },
      "image/png": "[encoded data removed]"
     },
     "metadata": {},
     "output_type": "display_data"
    }
   ],
   "source": [
    "fig = px.bar(penguins_df['species'].value_counts().reset_index(), \n",
    "             x='species', \n",
    "             y='count',\n",
    "             title='Number of Penguins by Species')\n",
    "fig.update_layout(xaxis_title='Species', yaxis_title='Count')"
   ]
  },
  {
   "cell_type": "markdown",
   "id": "9288448b-4927-4c74-b0ca-3065436c6e1f",
   "metadata": {},
   "source": [
    "#### 2. Make a histogram of penguin body weights to see the distribution.\n",
    "Hint: plt.hist(), sns.histplot() or px.histogram()."
   ]
  },
  {
   "cell_type": "code",
   "execution_count": 14,
   "id": "6e22023a-d87f-4eea-aff9-baa2b751b3c6",
   "metadata": {},
   "outputs": [
    {
     "data": {
      "image/png": "[encoded data removed]",
      "text/plain": [
       "<Figure size 800x600 with 1 Axes>"
      ]
     },
     "metadata": {},
     "output_type": "display_data"
    }
   ],
   "source": [
    "plt.figure(figsize=(8, 6))\n",
    "ax = sns.histplot(data=penguins_df, x=\"body_mass_g\")\n",
    "plt.title('Histogram of body weights')\n",
    "plt.xlabel('Body mass (g)')\n",
    "plt.ylabel('Count')\n",
    "plt.show()\n",
    "\n",
    "fig = ax.figure"
   ]
  },
  {
   "cell_type": "markdown",
   "id": "985ac505-7fab-4567-9b63-7acb02d0d87a",
   "metadata": {},
   "source": [
    "#### 3. Create a scatter plot comparing bill length vs bill depth, with different colors for each species.\n",
    "Hint: plt.scatter(), sns.scatterplot() or px.scatter()."
   ]
  },
  {
   "cell_type": "code",
   "execution_count": 15,
   "id": "5e10c7f1-4441-4ae5-8838-561eb4dfcf27",
   "metadata": {},
   "outputs": [
    {
     "data": {
      "image/png": "[encoded data removed]",
      "text/plain": [
       "<Figure size 800x600 with 1 Axes>"
      ]
     },
     "metadata": {},
     "output_type": "display_data"
    }
   ],
   "source": [
    "plt.figure(figsize=(8, 6))\n",
    "ax = sns.scatterplot(data=penguins_df, x=\"bill_length_mm\", y=\"bill_depth_mm\", hue=\"sex\")\n",
    "plt.title('Scatterplot of bill length vs. bill depth by species')\n",
    "plt.xlabel('Bill length (mm)')\n",
    "plt.ylabel('Bill depth (mm)')\n",
    "plt.show()\n",
    "\n",
    "fig = ax.figure"
   ]
  },
  {
   "cell_type": "markdown",
   "id": "ef23df27-859f-4fe8-b859-012285b29eb5",
   "metadata": {},
   "source": [
    "#### 4. Make a box plot showing flipper length for each penguin species.\n",
    "Hint: plt.boxplot(), sns.boxplot() or px.box()."
   ]
  },
  {
   "cell_type": "code",
   "execution_count": 17,
   "id": "de6720f1-c60d-457b-b233-a50fc44a5334",
   "metadata": {},
   "outputs": [
    {
     "data": {
      "image/png": "[encoded data removed]",
      "text/plain": [
       "<Figure size 800x600 with 1 Axes>"
      ]
     },
     "metadata": {},
     "output_type": "display_data"
    }
   ],
   "source": [
    "plt.figure(figsize=(8, 6))\n",
    "ax = sns.boxplot(data=penguins_df, x=\"species\", y=\"flipper_length_mm\")\n",
    "plt.title('Flipper length by species')\n",
    "plt.xlabel('Species')\n",
    "plt.ylabel('Flipper length (mm)')\n",
    "plt.show()\n",
    "\n",
    "fig = ax.figure"
   ]
  },
  {
   "cell_type": "markdown",
   "id": "0fd99fdb-ea88-423b-8ac9-1726b9d86f42",
   "metadata": {},
   "source": [
    "#### 5. Create a line plot showing the average body mass for each species across different islands.\n",
    "Hint: plt.plot(), sns.lineplot() or px.line()."
   ]
  },
  {
   "cell_type": "code",
   "execution_count": 12,
   "id": "0c50177c-5e39-45bb-bc67-ef364cd4c7b4",
   "metadata": {},
   "outputs": [
    {
     "data": {
      "text/html": [
       "<div>\n",
       "<style scoped>\n",
       "    .dataframe tbody tr th:only-of-type {\n",
       "        vertical-align: middle;\n",
       "    }\n",
       "\n",
       "    .dataframe tbody tr th {\n",
       "        vertical-align: top;\n",
       "    }\n",
       "\n",
       "    .dataframe thead th {\n",
       "        text-align: right;\n",
       "    }\n",
       "</style>\n",
       "<table border=\"1\" class=\"dataframe\">\n",
       "  <thead>\n",
       "    <tr style=\"text-align: right;\">\n",
       "      <th></th>\n",
       "      <th>species</th>\n",
       "      <th>island</th>\n",
       "      <th>bill_length_mm</th>\n",
       "      <th>bill_depth_mm</th>\n",
       "      <th>flipper_length_mm</th>\n",
       "      <th>body_mass_g</th>\n",
       "      <th>sex</th>\n",
       "    </tr>\n",
       "  </thead>\n",
       "  <tbody>\n",
       "    <tr>\n",
       "      <th>0</th>\n",
       "      <td>Adelie</td>\n",
       "      <td>Torgersen</td>\n",
       "      <td>39.1</td>\n",
       "      <td>18.7</td>\n",
       "      <td>181.0</td>\n",
       "      <td>3750.0</td>\n",
       "      <td>MALE</td>\n",
       "    </tr>\n",
       "    <tr>\n",
       "      <th>1</th>\n",
       "      <td>Adelie</td>\n",
       "      <td>Torgersen</td>\n",
       "      <td>39.5</td>\n",
       "      <td>17.4</td>\n",
       "      <td>186.0</td>\n",
       "      <td>3800.0</td>\n",
       "      <td>FEMALE</td>\n",
       "    </tr>\n",
       "    <tr>\n",
       "      <th>2</th>\n",
       "      <td>Adelie</td>\n",
       "      <td>Torgersen</td>\n",
       "      <td>40.3</td>\n",
       "      <td>18.0</td>\n",
       "      <td>195.0</td>\n",
       "      <td>3250.0</td>\n",
       "      <td>FEMALE</td>\n",
       "    </tr>\n",
       "    <tr>\n",
       "      <th>3</th>\n",
       "      <td>Adelie</td>\n",
       "      <td>Torgersen</td>\n",
       "      <td>NaN</td>\n",
       "      <td>NaN</td>\n",
       "      <td>NaN</td>\n",
       "      <td>NaN</td>\n",
       "      <td>NaN</td>\n",
       "    </tr>\n",
       "    <tr>\n",
       "      <th>4</th>\n",
       "      <td>Adelie</td>\n",
       "      <td>Torgersen</td>\n",
       "      <td>36.7</td>\n",
       "      <td>19.3</td>\n",
       "      <td>193.0</td>\n",
       "      <td>3450.0</td>\n",
       "      <td>FEMALE</td>\n",
       "    </tr>\n",
       "  </tbody>\n",
       "</table>\n",
       "</div>"
      ],
      "text/plain": [
       "  species     island  bill_length_mm  bill_depth_mm  flipper_length_mm  \\\n",
       "0  Adelie  Torgersen            39.1           18.7              181.0   \n",
       "1  Adelie  Torgersen            39.5           17.4              186.0   \n",
       "2  Adelie  Torgersen            40.3           18.0              195.0   \n",
       "3  Adelie  Torgersen             NaN            NaN                NaN   \n",
       "4  Adelie  Torgersen            36.7           19.3              193.0   \n",
       "\n",
       "   body_mass_g     sex  \n",
       "0       3750.0    MALE  \n",
       "1       3800.0  FEMALE  \n",
       "2       3250.0  FEMALE  \n",
       "3          NaN     NaN  \n",
       "4       3450.0  FEMALE  "
      ]
     },
     "execution_count": 12,
     "metadata": {},
     "output_type": "execute_result"
    }
   ],
   "source": [
    "penguins_df.head()"
   ]
  },
  {
   "cell_type": "code",
   "execution_count": 18,
   "id": "59e3f5b8-0235-4e4f-8771-9881323cf62d",
   "metadata": {},
   "outputs": [
    {
     "data": {
      "image/png": "[encoded data removed]",
      "text/plain": [
       "<Figure size 800x600 with 1 Axes>"
      ]
     },
     "metadata": {},
     "output_type": "display_data"
    }
   ],
   "source": [
    "plt.figure(figsize=(8, 6))\n",
    "ax = sns.lineplot(data=penguins_df, x='island', y='body_mass_g', hue='species')\n",
    "plt.title('Average Body Mass by Species Across Islands')\n",
    "plt.xlabel('Island')\n",
    "plt.ylabel('Body Mass (g)')\n",
    "plt.show()\n",
    "\n",
    "fig = ax.figure"
   ]
  },
  {
   "cell_type": "markdown",
   "id": "bbe95b73-c006-4726-a728-bd85f5f069b5",
   "metadata": {
    "jp-MarkdownHeadingCollapsed": true
   },
   "source": [
    "### If you selected the `crashes` dataset"
   ]
  },
  {
   "cell_type": "markdown",
   "id": "eb029ac6-b2ec-4314-b0c6-c400be488a1d",
   "metadata": {},
   "source": [
    "#### 1. Create a bar chart showing the total number of car crashes by state.\n",
    "Hint: plt.bar(), sns.barplot() or px.bar()."
   ]
  },
  {
   "cell_type": "code",
   "execution_count": null,
   "id": "97ef2f73-2b80-44d4-bbf1-b85c430b64d2",
   "metadata": {},
   "outputs": [],
   "source": []
  },
  {
   "cell_type": "markdown",
   "id": "c328f6bf-c138-4438-86bb-7271f5d67920",
   "metadata": {},
   "source": [
    "#### 2. Make a histogram of insurance premiums to see the distribution across states.\n",
    "Hint: plt.hist(), sns.histplot() or px.histogram()."
   ]
  },
  {
   "cell_type": "code",
   "execution_count": null,
   "id": "b60149a3-8647-4cfa-ab45-cab19691dd13",
   "metadata": {},
   "outputs": [],
   "source": []
  },
  {
   "cell_type": "markdown",
   "id": "4796f3cc-ca28-449f-b079-2a6fdcba4a82",
   "metadata": {},
   "source": [
    "#### 3. Create a scatter plot comparing total crashes vs speeding-related crashes, with state abbreviations as labels.\n",
    "Hint: plt.scatter(), sns.scatterplot() or px.scatter()."
   ]
  },
  {
   "cell_type": "code",
   "execution_count": null,
   "id": "ceef2d7c-f694-4c66-be1d-2dc0705058ea",
   "metadata": {},
   "outputs": [],
   "source": []
  },
  {
   "cell_type": "markdown",
   "id": "65c0e105-c55d-4b76-8cd9-a7012b1abdbd",
   "metadata": {},
   "source": [
    "#### 4. Make a box plot showing the distribution of alcohol-related crashes.\n",
    "Hint: plt.boxplot(), sns.boxplot() or px.box()."
   ]
  },
  {
   "cell_type": "code",
   "execution_count": null,
   "id": "5c8f37bc-5ba0-4c1a-be99-982eae56dc92",
   "metadata": {},
   "outputs": [],
   "source": []
  },
  {
   "cell_type": "markdown",
   "id": "9ad97788-67ff-48bd-a23a-a6978e288c8d",
   "metadata": {},
   "source": [
    "#### 5. Create a bar chart comparing insurance premiums vs insurance losses by state.\n",
    "Hint: plt.bar(), sns.barplot() or px.bar()."
   ]
  },
  {
   "cell_type": "code",
   "execution_count": null,
   "id": "b2c7d144-4e4c-491c-b6f8-1afe4e904984",
   "metadata": {},
   "outputs": [],
   "source": []
  },
  {
   "cell_type": "markdown",
   "id": "ad65f662-5686-4f2f-9d8e-6973eb1d0435",
   "metadata": {
    "jp-MarkdownHeadingCollapsed": true
   },
   "source": [
    "### If you selected the `chlorophyll` dataset"
   ]
  },
  {
   "cell_type": "markdown",
   "id": "15a151da-8e6e-4f9d-bce1-ec2c5f326a59",
   "metadata": {},
   "source": [
    "#### 1. Create a histogram of chlorophyll-a predictions to see the distribution of concentration levels.\n",
    "Hint: plt.hist(), sns.histplot() or px.histogram()."
   ]
  },
  {
   "cell_type": "code",
   "execution_count": null,
   "id": "12e153f5-f0be-475f-927c-1e010246a169",
   "metadata": {},
   "outputs": [],
   "source": []
  },
  {
   "cell_type": "markdown",
   "id": "3ec74fa0-68ca-4a3c-8e47-4f2ac0f5b575",
   "metadata": {},
   "source": [
    "#### 2. Make a scatter plot showing the geographic distribution of water bodies using longitude and latitude coordinates.\n",
    "Hint: plt.scatter(), sns.scatterplot() or px.scatter()."
   ]
  },
  {
   "cell_type": "code",
   "execution_count": null,
   "id": "a0a81955-1243-4202-a914-de08d690a966",
   "metadata": {},
   "outputs": [],
   "source": []
  },
  {
   "cell_type": "markdown",
   "id": "19aaf437-39d0-4314-af0a-1f24092ef434",
   "metadata": {},
   "source": [
    "#### 3. Create a line plot showing how chlorophyll-a predictions change over time (by date_acquired).\n",
    "Hint: plt.plot(), sns.lineplot() or px.line()."
   ]
  },
  {
   "cell_type": "code",
   "execution_count": null,
   "id": "28326a96-c507-45a0-bf7d-3ac0c92af7f1",
   "metadata": {},
   "outputs": [],
   "source": []
  },
  {
   "cell_type": "markdown",
   "id": "f9bcb2dd-2725-46a7-8b3d-7618345815c8",
   "metadata": {},
   "source": [
    "#### 4. Make a box plot comparing chlorophyll-a predictions across different water bodies (top 10 most frequent).\n",
    "Hint: plt.boxplot(), sns.boxplot() or px.box()."
   ]
  },
  {
   "cell_type": "code",
   "execution_count": null,
   "id": "adb44df5-591c-4167-a8bf-56704b0d86c0",
   "metadata": {},
   "outputs": [],
   "source": []
  },
  {
   "cell_type": "markdown",
   "id": "a9fb8047-d796-4ec9-9599-f357a68d5339",
   "metadata": {},
   "source": [
    "#### 5. Create a scatter plot comparing longitude vs chlorophyll-a predictions, with different colors for different concentration ranges.\n",
    "Hint: plt.scatter(), sns.scatterplot() or px.scatter()."
   ]
  },
  {
   "cell_type": "markdown",
   "id": "e78580be-8487-4d36-92e9-92f1988f413a",
   "metadata": {},
   "source": []
  },
  {
   "cell_type": "markdown",
   "id": "90955b56-3ee7-4c42-b90d-b96a5d717e4d",
   "metadata": {
    "jp-MarkdownHeadingCollapsed": true
   },
   "source": [
    "### If you selected a different dataset"
   ]
  },
  {
   "cell_type": "markdown",
   "id": "2d73dd91-d738-468f-94e3-d63284dba030",
   "metadata": {},
   "source": [
    "- What are the 5 most important insights we can get from this?"
   ]
  },
  {
   "cell_type": "code",
   "execution_count": null,
   "id": "7c12b3f7-2730-4696-b9cc-463c461e26ac",
   "metadata": {},
   "outputs": [],
   "source": []
  }
 ],
 "metadata": {
  "kernelspec": {
   "display_name": "showyourwork",
   "language": "python",
   "name": "showyourwork"
  },
  "language_info": {
   "codemirror_mode": {
    "name": "ipython",
    "version": 3
   },
   "file_extension": ".py",
   "mimetype": "text/x-python",
   "name": "python",
   "nbconvert_exporter": "python",
   "pygments_lexer": "ipython3",
   "version": "3.12.9"
  },
  "panel-cell-order": [
   "7f0f1391-a1e1-494e-9911-495990d09d71",
   "07adf396-ba3a-417f-9cf7-912498d8803d",
   "0689046b-e327-4c73-965a-4c63af8af2e1"
  ]
 },
 "nbformat": 4,
 "nbformat_minor": 5
}
