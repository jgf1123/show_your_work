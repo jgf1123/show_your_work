{
 "cells": [
  {
   "cell_type": "markdown",
   "metadata": {},
   "source": [
    "# Streamlit Tutorial: Building Interactive Web Applications\n",
    "\n",
    "Welcome to this comprehensive tutorial on building web applications with Streamlit! Streamlit is a powerful Python library that allows you to create beautiful, interactive web applications with minimal code.\n",
    "\n",
    "## Table of Contents\n",
    "1. [Introduction to Streamlit](#introduction)\n",
    "2. [Installation and Setup](#installation)\n",
    "3. [Basic Streamlit Components](#basic-components)\n",
    "4. [Data Visualization](#data-visualization)\n",
    "5. [Interactive Elements](#interactive-elements)\n",
    "6. [Working with Real Data](#real-data)\n",
    "7. [Advanced Features](#advanced-features)\n",
    "8. [Deployment](#deployment)\n",
    "9. [Best Practices](#best-practices)"
   ]
  },
  {
   "cell_type": "markdown",
   "metadata": {},
   "source": [
    "## 1. Introduction to Streamlit\n",
    "\n",
    "Streamlit is an open-source Python library that makes it easy to create and share beautiful, custom web applications for machine learning and data science. Here's why Streamlit is popular:\n",
    "\n",
    "- **Simple**: No need to learn HTML/CSS/JavaScript\n",
    "- **Fast**: Build apps in minutes, not hours\n",
    "- **Interactive**: Built-in widgets for user interaction\n",
    "- **Pythonic**: Uses pure Python syntax\n",
    "- **Free**: Open source and free to use"
   ]
  },
  {
   "cell_type": "markdown",
   "metadata": {},
   "source": [
    "## 2. Installation and Setup {#installation}\n",
    "\n",
    "First, let's make sure Streamlit is installed:"
   ]
  },
  {
   "cell_type": "markdown",
   "metadata": {},
   "source": [
    "Let's also import the libraries we'll need:"
   ]
  },
  {
   "cell_type": "code",
   "execution_count": 1,
   "metadata": {},
   "outputs": [],
   "source": [
    "import streamlit as st\n",
    "import pandas as pd\n",
    "import numpy as np\n",
    "import matplotlib.pyplot as plt\n",
    "import seaborn as sns\n",
    "import plotly.express as px\n",
    "import plotly.graph_objects as go\n",
    "from datetime import datetime, date\n",
    "import os"
   ]
  },
  {
   "cell_type": "code",
   "execution_count": 2,
   "metadata": {},
   "outputs": [],
   "source": [
    "os.makedirs(\"streamlit\", exist_ok=True)\n",
    "os.chdir(\"streamlit\")"
   ]
  },
  {
   "cell_type": "markdown",
   "metadata": {},
   "source": [
    "## 3. Basic Streamlit Components {#basic-components}\n",
    "\n",
    "Let's create our first Streamlit app! In Streamlit, you write regular Python scripts that use special Streamlit functions to display content.\n",
    "\n",
    "### 3.1 Creating Your First App\n",
    "\n",
    "Here's a simple \"Hello World\" Streamlit app:"
   ]
  },
  {
   "cell_type": "code",
   "execution_count": 3,
   "metadata": {},
   "outputs": [
    {
     "name": "stdout",
     "output_type": "stream",
     "text": [
      "Writing basic_app.py\n"
     ]
    }
   ],
   "source": [
    "%%writefile basic_app.py\n",
    "\n",
    "import streamlit as st\n",
    "\n",
    "# Title of the app\n",
    "st.title(\"My First Streamlit App! 🎉\")\n",
    "\n",
    "# Header\n",
    "st.header(\"Welcome to Streamlit\")\n",
    "\n",
    "# Subheader\n",
    "st.subheader(\"This is a subheader\")\n",
    "\n",
    "# Text\n",
    "st.text(\"This is some text.\")\n",
    "\n",
    "# Markdown\n",
    "st.markdown(\"**This is bold text** and *this is italic text*\")\n",
    "\n",
    "# Write (automatically detects data type)\n",
    "st.write(\"Hello, World!\")\n",
    "st.write(1234)\n",
    "st.write([1, 2, 3, 4])"
   ]
  },
  {
   "cell_type": "code",
   "execution_count": null,
   "metadata": {},
   "outputs": [],
   "source": []
  },
  {
   "cell_type": "markdown",
   "metadata": {},
   "source": [
    "### 3.2 Text and Formatting Elements\n",
    "\n",
    "Streamlit provides various ways to display text and format content:"
   ]
  },
  {
   "cell_type": "code",
   "execution_count": 4,
   "metadata": {},
   "outputs": [
    {
     "name": "stdout",
     "output_type": "stream",
     "text": [
      "Writing text_demo.py\n"
     ]
    }
   ],
   "source": [
    "%%writefile text_demo.py\n",
    "\n",
    "import streamlit as st\n",
    "\n",
    "st.title(\"Text and Formatting Demo\")\n",
    "\n",
    "# Different text elements\n",
    "st.title(\"This is a title\")\n",
    "st.header(\"This is a header\")\n",
    "st.subheader(\"This is a subheader\")\n",
    "st.text(\"This is plain text\")\n",
    "\n",
    "# Markdown formatting\n",
    "st.markdown(\"\"\"\n",
    "### This is markdown\n",
    "- **Bold text**\n",
    "- *Italic text*\n",
    "- `Code text`\n",
    "- [Link to Streamlit](https://streamlit.io)\n",
    "\"\"\")\n",
    "\n",
    "# Code blocks\n",
    "st.code(\"\"\"\n",
    "def hello():\n",
    "    print(\"Hello, Streamlit!\")\n",
    "\"\"\", language='python')\n",
    "\n",
    "# LaTeX\n",
    "st.latex(r\"\"\"e^{i\\pi} + 1 = 0\"\"\")\n",
    "\n",
    "# Success, info, warning, error messages\n",
    "st.success(\"This is a success message!\")\n",
    "st.info(\"This is an info message.\")\n",
    "st.warning(\"This is a warning message.\")\n",
    "st.error(\"This is an error message.\")"
   ]
  },
  {
   "cell_type": "markdown",
   "metadata": {},
   "source": [
    "## 4. Data Visualization\n",
    "\n",
    "One of Streamlit's strongest features is its built-in support for data visualization. Let's explore different ways to display data.\n",
    "\n",
    "### 4.1 Basic Charts"
   ]
  },
  {
   "cell_type": "code",
   "execution_count": 5,
   "metadata": {},
   "outputs": [
    {
     "name": "stdout",
     "output_type": "stream",
     "text": [
      "Penguins dataset shape: (344, 7)\n",
      "Penguins columns: ['species', 'island', 'bill_length_mm', 'bill_depth_mm', 'flipper_length_mm', 'body_mass_g', 'sex']\n",
      "\n",
      "Chlorophyll-a dataset shape: (7177, 6)\n",
      "Chlorophyll-a columns: ['gnis_name', 'comid', 'centroid_longitude', 'centroid_latitude', 'date_acquired', 'predictions']\n"
     ]
    }
   ],
   "source": [
    "# Let's load our datasets first\n",
    "penguins_df = pd.read_csv('../data/penguins.csv')\n",
    "chla_df = pd.read_csv('../data/chla_subset.csv')\n",
    "\n",
    "print(\"Penguins dataset shape:\", penguins_df.shape)\n",
    "print(\"Penguins columns:\", penguins_df.columns.tolist())\n",
    "print(\"\\nChlorophyll-a dataset shape:\", chla_df.shape)\n",
    "print(\"Chlorophyll-a columns:\", chla_df.columns.tolist())"
   ]
  },
  {
   "cell_type": "code",
   "execution_count": 6,
   "metadata": {},
   "outputs": [
    {
     "name": "stdout",
     "output_type": "stream",
     "text": [
      "Writing charts_demo.py\n"
     ]
    }
   ],
   "source": [
    "%%writefile charts_demo.py\n",
    "\n",
    "import streamlit as st\n",
    "import pandas as pd\n",
    "import numpy as np\n",
    "import matplotlib.pyplot as plt\n",
    "import seaborn as sns\n",
    "import plotly.express as px\n",
    "\n",
    "st.title(\"Data Visualization with Streamlit\")\n",
    "\n",
    "# Load the penguins dataset\n",
    "penguins_df = pd.read_csv('../data/penguins.csv')\n",
    "\n",
    "st.header(\"Dataset Preview\")\n",
    "st.write(\"Here's our penguins dataset:\")\n",
    "st.dataframe(penguins_df.head())\n",
    "\n",
    "# Remove rows with missing values for visualization\n",
    "penguins_clean = penguins_df.dropna()\n",
    "\n",
    "st.header(\"Built-in Streamlit Charts\")\n",
    "\n",
    "# Line chart\n",
    "st.subheader(\"Line Chart\")\n",
    "chart_data = pd.DataFrame(\n",
    "    np.random.randn(20, 3),\n",
    "    columns=['a', 'b', 'c']\n",
    ")\n",
    "st.line_chart(chart_data)\n",
    "\n",
    "# Area chart\n",
    "st.subheader(\"Area Chart\")\n",
    "st.area_chart(chart_data)\n",
    "\n",
    "# Bar chart\n",
    "st.subheader(\"Bar Chart\")\n",
    "species_counts = penguins_clean['species'].value_counts()\n",
    "st.bar_chart(species_counts)\n",
    "\n",
    "# Scatter plot\n",
    "st.subheader(\"Scatter Plot\")\n",
    "scatter_data = penguins_clean[['bill_length_mm', 'bill_depth_mm']]\n",
    "st.scatter_chart(scatter_data, x='bill_length_mm', y='bill_depth_mm')\n",
    "\n",
    "st.header(\"Matplotlib Integration\")\n",
    "fig, ax = plt.subplots()\n",
    "ax.scatter(penguins_clean['bill_length_mm'], penguins_clean['flipper_length_mm'])\n",
    "ax.set_xlabel('Bill Length (mm)')\n",
    "ax.set_ylabel('Flipper Length (mm)')\n",
    "ax.set_title('Bill Length vs Flipper Length')\n",
    "st.pyplot(fig)\n",
    "\n",
    "st.header(\"Plotly Integration\")\n",
    "fig = px.scatter(penguins_clean, \n",
    "                x='bill_length_mm', \n",
    "                y='bill_depth_mm',\n",
    "                color='species',\n",
    "                title='Bill Dimensions by Species')\n",
    "st.plotly_chart(fig)"
   ]
  },
  {
   "cell_type": "markdown",
   "metadata": {},
   "source": [
    "## 5. Interactive Elements\n",
    "\n",
    "The real power of Streamlit comes from its interactive widgets. Let's explore the most commonly used ones.\n",
    "\n",
    "### 5.1 Input Widgets"
   ]
  },
  {
   "cell_type": "code",
   "execution_count": 7,
   "metadata": {},
   "outputs": [
    {
     "name": "stdout",
     "output_type": "stream",
     "text": [
      "Writing widgets_demo.py\n"
     ]
    }
   ],
   "source": [
    "%%writefile widgets_demo.py\n",
    "\n",
    "import streamlit as st\n",
    "import pandas as pd\n",
    "import numpy as np\n",
    "from datetime import datetime, date\n",
    "\n",
    "st.title(\"Interactive Widgets Demo\")\n",
    "\n",
    "st.header(\"Input Widgets\")\n",
    "\n",
    "# Text input\n",
    "name = st.text_input(\"What's your name?\", value=\"Enter your name here\")\n",
    "st.write(f\"Hello, {name}!\")\n",
    "\n",
    "# Number input\n",
    "age = st.number_input(\"How old are you?\", min_value=0, max_value=120, value=25)\n",
    "st.write(f\"You are {age} years old.\")\n",
    "\n",
    "# Slider\n",
    "temperature = st.slider(\"Select temperature\", min_value=-10, max_value=40, value=20)\n",
    "st.write(f\"Temperature: {temperature}°C\")\n",
    "\n",
    "# Select box\n",
    "option = st.selectbox(\"Choose your favorite color\", \n",
    "                     [\"Red\", \"Green\", \"Blue\", \"Yellow\"])\n",
    "st.write(f\"Your favorite color is {option}\")\n",
    "\n",
    "# Multi-select\n",
    "options = st.multiselect(\"Choose multiple options\",\n",
    "                        [\"Option 1\", \"Option 2\", \"Option 3\", \"Option 4\"],\n",
    "                        default=[\"Option 1\", \"Option 2\"])\n",
    "st.write(f\"You selected: {options}\")\n",
    "\n",
    "# Radio buttons\n",
    "genre = st.radio(\"What's your favorite movie genre?\",\n",
    "                [\"Comedy\", \"Drama\", \"Documentary\"])\n",
    "st.write(f\"You selected: {genre}\")\n",
    "\n",
    "# Checkbox\n",
    "agree = st.checkbox(\"I agree to the terms and conditions\")\n",
    "if agree:\n",
    "    st.success(\"Thanks for agreeing!\")\n",
    "\n",
    "# Date input\n",
    "birthday = st.date_input(\"When is your birthday?\", \n",
    "                        value=date(1990, 1, 1))\n",
    "st.write(f\"Your birthday is: {birthday}\")\n",
    "\n",
    "# Time input\n",
    "time = st.time_input(\"What time is it?\")\n",
    "st.write(f\"Time: {time}\")\n",
    "\n",
    "# File uploader\n",
    "uploaded_file = st.file_uploader(\"Choose a CSV file\", type=\"csv\")\n",
    "if uploaded_file is not None:\n",
    "    df = pd.read_csv(uploaded_file)\n",
    "    st.write(\"File uploaded successfully!\")\n",
    "    st.dataframe(df.head())\n",
    "\n",
    "# Button\n",
    "if st.button(\"Click me!\"):\n",
    "    st.balloons()\n",
    "    st.success(\"Button clicked!\")"
   ]
  },
  {
   "cell_type": "code",
   "execution_count": null,
   "metadata": {},
   "outputs": [],
   "source": []
  },
  {
   "cell_type": "code",
   "execution_count": null,
   "metadata": {},
   "outputs": [],
   "source": []
  },
  {
   "cell_type": "markdown",
   "metadata": {},
   "source": [
    "## Try it with your data!"
   ]
  },
  {
   "cell_type": "markdown",
   "metadata": {},
   "source": [
    "Streamlit widgets: https://docs.streamlit.io/develop/api-reference/widgets"
   ]
  },
  {
   "cell_type": "code",
   "execution_count": null,
   "metadata": {},
   "outputs": [],
   "source": []
  },
  {
   "cell_type": "code",
   "execution_count": null,
   "metadata": {},
   "outputs": [],
   "source": []
  },
  {
   "cell_type": "code",
   "execution_count": null,
   "metadata": {},
   "outputs": [],
   "source": []
  }
 ],
 "metadata": {
  "kernelspec": {
   "display_name": "showyourwork",
   "language": "python",
   "name": "showyourwork"
  },
  "language_info": {
   "codemirror_mode": {
    "name": "ipython",
    "version": 3
   },
   "file_extension": ".py",
   "mimetype": "text/x-python",
   "name": "python",
   "nbconvert_exporter": "python",
   "pygments_lexer": "ipython3",
   "version": "3.12.9"
  }
 },
 "nbformat": 4,
 "nbformat_minor": 4
}
