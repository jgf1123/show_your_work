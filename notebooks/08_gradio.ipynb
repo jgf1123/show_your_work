{
 "cells": [
  {
   "cell_type": "markdown",
   "metadata": {},
   "source": [
    "# Building Web Applications with Gradio\n",
    "\n",
    "This tutorial will guide you through using Gradio to build interactive web applications from your Python functions. We'll cover Gradio's design philosophy, main components, and deployment options.\n",
    "\n",
    "## What is Gradio?\n",
    "\n",
    "Gradio is an open-source Python library that makes it easy to create customizable UI components for machine learning models, APIs, or any Python function. It's designed to make sharing your work as simple as possible.\n",
    "\n",
    "### Design Philosophy\n",
    "\n",
    "Gradio follows several key principles:\n",
    "\n",
    "1. **Simplicity First**: Convert any Python function into a web interface with just a few lines of code\n",
    "2. **Zero Web Development Knowledge Required**: No HTML, CSS, or JavaScript needed\n",
    "3. **Rapid Prototyping**: Get a working demo in minutes, not hours\n",
    "4. **Flexible Components**: Rich set of input/output components for different data types\n",
    "5. **Easy Sharing**: Built-in sharing capabilities and deployment options"
   ]
  },
  {
   "cell_type": "markdown",
   "metadata": {},
   "source": [
    "## Installation and Setup\n",
    "\n",
    "First, let's install Gradio and import the necessary libraries:"
   ]
  },
  {
   "cell_type": "code",
   "execution_count": 2,
   "metadata": {},
   "outputs": [],
   "source": [
    "import gradio as gr\n",
    "import pandas as pd\n",
    "import numpy as np\n",
    "import matplotlib.pyplot as plt\n",
    "import seaborn as sns\n",
    "from PIL import Image\n",
    "import io\n",
    "import base64"
   ]
  },
  {
   "cell_type": "markdown",
   "metadata": {},
   "source": [
    "## Core Concepts\n",
    "\n",
    "### 1. The Basic Pattern\n",
    "\n",
    "Every Gradio app follows this pattern:\n",
    "1. Define a Python function\n",
    "2. Create an interface with `gr.Interface()`\n",
    "3. Launch the app with `.launch()`\n",
    "\n",
    "Let's start with the classic \"Hello World\" example:"
   ]
  },
  {
   "cell_type": "code",
   "execution_count": 3,
   "metadata": {},
   "outputs": [
    {
     "name": "stdout",
     "output_type": "stream",
     "text": [
      "* Running on local URL:  http://127.0.0.1:7860\n",
      "\n",
      "Could not create share link. Please check your internet connection or our status page: https://status.gradio.app.\n"
     ]
    },
    {
     "data": {
      "text/html": [
       "<div><iframe src=\"http://127.0.0.1:7860/\" width=\"100%\" height=\"500\" allow=\"autoplay; camera; microphone; clipboard-read; clipboard-write;\" frameborder=\"0\" allowfullscreen></iframe></div>"
      ],
      "text/plain": [
       "<IPython.core.display.HTML object>"
      ]
     },
     "metadata": {},
     "output_type": "display_data"
    },
    {
     "data": {
      "text/plain": []
     },
     "execution_count": 3,
     "metadata": {},
     "output_type": "execute_result"
    },
    {
     "name": "stdout",
     "output_type": "stream",
     "text": [
      "Created dataset file at: .gradio\\flagged\\dataset1.csv\n"
     ]
    }
   ],
   "source": [
    "def greet(name):\n",
    "    return f\"Hello, {name}!\"\n",
    "\n",
    "# Create the interface\n",
    "demo = gr.Interface(\n",
    "    fn=greet,\n",
    "    inputs=\"text\",\n",
    "    outputs=\"text\",\n",
    "    title=\"Hello World App\",\n",
    "    description=\"Enter your name to get a greeting!\"\n",
    ")\n",
    "\n",
    "# Launch the app\n",
    "demo.launch(share=True)"
   ]
  },
  {
   "cell_type": "markdown",
   "metadata": {},
   "source": [
    "### 2. Input and Output Components\n",
    "\n",
    "Gradio provides a rich set of components for different data types:"
   ]
  },
  {
   "cell_type": "code",
   "execution_count": 4,
   "metadata": {},
   "outputs": [
    {
     "name": "stdout",
     "output_type": "stream",
     "text": [
      "* Running on local URL:  http://127.0.0.1:7861\n",
      "\n",
      "Could not create share link. Please check your internet connection or our status page: https://status.gradio.app.\n"
     ]
    },
    {
     "data": {
      "text/html": [
       "<div><iframe src=\"http://127.0.0.1:7861/\" width=\"100%\" height=\"500\" allow=\"autoplay; camera; microphone; clipboard-read; clipboard-write;\" frameborder=\"0\" allowfullscreen></iframe></div>"
      ],
      "text/plain": [
       "<IPython.core.display.HTML object>"
      ]
     },
     "metadata": {},
     "output_type": "display_data"
    },
    {
     "data": {
      "text/plain": []
     },
     "execution_count": 4,
     "metadata": {},
     "output_type": "execute_result"
    }
   ],
   "source": [
    "def calculator(operation, num1, num2):\n",
    "    if operation == \"Add\":\n",
    "        return num1 + num2\n",
    "    elif operation == \"Subtract\":\n",
    "        return num1 - num2\n",
    "    elif operation == \"Multiply\":\n",
    "        return num1 * num2\n",
    "    elif operation == \"Divide\":\n",
    "        if num2 != 0:\n",
    "            return num1 / num2\n",
    "        else:\n",
    "            return \"Error: Division by zero!\"\n",
    "\n",
    "calculator_demo = gr.Interface(\n",
    "    fn=calculator,\n",
    "    inputs=[\n",
    "        gr.Dropdown([\"Add\", \"Subtract\", \"Multiply\", \"Divide\"], label=\"Operation\"),\n",
    "        gr.Number(label=\"First Number\"),\n",
    "        gr.Number(label=\"Second Number\")\n",
    "    ],\n",
    "    outputs=gr.Number(label=\"Result\"),\n",
    "    title=\"Simple Calculator\",\n",
    "    description=\"Perform basic arithmetic operations\"\n",
    ")\n",
    "\n",
    "calculator_demo.launch(share=True)"
   ]
  },
  {
   "cell_type": "markdown",
   "metadata": {},
   "source": [
    "## Main Components\n",
    "\n",
    "### Input Components\n",
    "\n",
    "- **Text**: `gr.Textbox()` - for text input\n",
    "- **Number**: `gr.Number()` - for numeric input\n",
    "- **Slider**: `gr.Slider()` - for selecting values within a range\n",
    "- **Dropdown**: `gr.Dropdown()` - for selecting from options\n",
    "- **Checkbox**: `gr.Checkbox()` - for boolean input\n",
    "- **Radio**: `gr.Radio()` - for selecting one option\n",
    "- **Image**: `gr.Image()` - for image upload\n",
    "- **Audio**: `gr.Audio()` - for audio upload\n",
    "- **File**: `gr.File()` - for file upload\n",
    "\n",
    "### Output Components\n",
    "\n",
    "- **Text**: `gr.Textbox()` - for text output\n",
    "- **Label**: `gr.Label()` - for classification results\n",
    "- **Image**: `gr.Image()` - for image output\n",
    "- **Plot**: `gr.Plot()` - for matplotlib plots\n",
    "- **HTML**: `gr.HTML()` - for HTML content\n",
    "- **JSON**: `gr.JSON()` - for JSON data\n",
    "- **Dataframe**: `gr.Dataframe()` - for tabular data"
   ]
  },
  {
   "cell_type": "markdown",
   "metadata": {},
   "source": [
    "## Practical Examples\n",
    "\n",
    "### Example 1: Data Analysis Tool\n",
    "\n",
    "Let's create a data analysis tool using the penguins dataset:"
   ]
  },
  {
   "cell_type": "code",
   "execution_count": null,
   "metadata": {},
   "outputs": [],
   "source": [
    "# Load the penguins dataset\n",
    "penguins = pd.read_csv('data/penguins.csv')\n",
    "\n",
    "def analyze_penguins(species, plot_type):\n",
    "    # Filter data if specific species selected\n",
    "    if species != \"All\":\n",
    "        data = penguins[penguins['species'] == species]\n",
    "    else:\n",
    "        data = penguins\n",
    "    \n",
    "    # Create plot\n",
    "    plt.figure(figsize=(10, 6))\n",
    "    \n",
    "    if plot_type == \"Body Mass Distribution\":\n",
    "        if species == \"All\":\n",
    "            sns.histplot(data=data, x='body_mass_g', hue='species', bins=20)\n",
    "        else:\n",
    "            sns.histplot(data=data, x='body_mass_g', bins=20)\n",
    "        plt.title(f'Body Mass Distribution - {species}')\n",
    "        plt.xlabel('Body Mass (g)')\n",
    "        \n",
    "    elif plot_type == \"Bill Length vs Depth\":\n",
    "        if species == \"All\":\n",
    "            sns.scatterplot(data=data, x='bill_length_mm', y='bill_depth_mm', hue='species')\n",
    "        else:\n",
    "            sns.scatterplot(data=data, x='bill_length_mm', y='bill_depth_mm')\n",
    "        plt.title(f'Bill Length vs Depth - {species}')\n",
    "        plt.xlabel('Bill Length (mm)')\n",
    "        plt.ylabel('Bill Depth (mm)')\n",
    "    \n",
    "    plt.tight_layout()\n",
    "    \n",
    "    # Return both plot and summary statistics\n",
    "    summary = data.describe()\n",
    "    \n",
    "    return plt.gcf(), summary\n",
    "\n",
    "# Get unique species for dropdown\n",
    "species_options = [\"All\"] + list(penguins['species'].unique())\n",
    "\n",
    "penguin_analyzer = gr.Interface(\n",
    "    fn=analyze_penguins,\n",
    "    inputs=[\n",
    "        gr.Dropdown(species_options, value=\"All\", label=\"Species\"),\n",
    "        gr.Radio([\"Body Mass Distribution\", \"Bill Length vs Depth\"], \n",
    "                value=\"Body Mass Distribution\", label=\"Plot Type\")\n",
    "    ],\n",
    "    outputs=[\n",
    "        gr.Plot(label=\"Visualization\"),\n",
    "        gr.Dataframe(label=\"Summary Statistics\")\n",
    "    ],\n",
    "    title=\"Penguin Data Explorer\",\n",
    "    description=\"Explore penguin data with interactive visualizations\"\n",
    ")\n",
    "\n",
    "penguin_analyzer.launch()"
   ]
  },
  {
   "cell_type": "markdown",
   "metadata": {},
   "source": [
    "### Example 2: Image Processing Tool\n",
    "\n",
    "Let's create a simple image processing application:"
   ]
  },
  {
   "cell_type": "code",
   "execution_count": null,
   "metadata": {},
   "outputs": [],
   "source": [
    "def process_image(image, brightness, contrast, rotate):\n",
    "    if image is None:\n",
    "        return None\n",
    "    \n",
    "    # Convert to PIL Image if needed\n",
    "    if isinstance(image, np.ndarray):\n",
    "        image = Image.fromarray(image)\n",
    "    \n",
    "    # Apply brightness adjustment\n",
    "    from PIL import ImageEnhance\n",
    "    enhancer = ImageEnhance.Brightness(image)\n",
    "    image = enhancer.enhance(brightness)\n",
    "    \n",
    "    # Apply contrast adjustment\n",
    "    enhancer = ImageEnhance.Contrast(image)\n",
    "    image = enhancer.enhance(contrast)\n",
    "    \n",
    "    # Apply rotation\n",
    "    if rotate != 0:\n",
    "        image = image.rotate(rotate, expand=True)\n",
    "    \n",
    "    return image\n",
    "\n",
    "image_processor = gr.Interface(\n",
    "    fn=process_image,\n",
    "    inputs=[\n",
    "        gr.Image(label=\"Upload Image\"),\n",
    "        gr.Slider(0.1, 2.0, value=1.0, step=0.1, label=\"Brightness\"),\n",
    "        gr.Slider(0.1, 2.0, value=1.0, step=0.1, label=\"Contrast\"),\n",
    "        gr.Slider(-180, 180, value=0, step=15, label=\"Rotation (degrees)\")\n",
    "    ],\n",
    "    outputs=gr.Image(label=\"Processed Image\"),\n",
    "    title=\"Image Processor\",\n",
    "    description=\"Upload an image and adjust brightness, contrast, and rotation\"\n",
    ")\n",
    "\n",
    "image_processor.launch()"
   ]
  },
  {
   "cell_type": "code",
   "execution_count": null,
   "metadata": {},
   "outputs": [],
   "source": []
  },
  {
   "cell_type": "markdown",
   "metadata": {},
   "source": [
    "## Advanced Features\n",
    "\n",
    "### 1. Multiple Inputs and Outputs\n",
    "\n",
    "Gradio can handle functions with multiple inputs and outputs:"
   ]
  },
  {
   "cell_type": "code",
   "execution_count": null,
   "metadata": {},
   "outputs": [],
   "source": [
    "def data_summary_and_plot(csv_file, column_name, plot_type):\n",
    "    if csv_file is None:\n",
    "        return \"Please upload a CSV file\", None, None\n",
    "    \n",
    "    try:\n",
    "        df = pd.read_csv(csv_file.name)\n",
    "        \n",
    "        if column_name not in df.columns:\n",
    "            return f\"Column '{column_name}' not found in the dataset\", None, df.head()\n",
    "        \n",
    "        # Generate summary\n",
    "        summary = f\"\"\"\n",
    "        Dataset Summary:\n",
    "        • Shape: {df.shape[0]} rows × {df.shape[1]} columns\n",
    "        • Column '{column_name}' statistics:\n",
    "          - Mean: {df[column_name].mean():.2f}\n",
    "          - Median: {df[column_name].median():.2f}\n",
    "          - Std Dev: {df[column_name].std():.2f}\n",
    "          - Min: {df[column_name].min():.2f}\n",
    "          - Max: {df[column_name].max():.2f}\n",
    "        \"\"\"\n",
    "        \n",
    "        # Generate plot\n",
    "        plt.figure(figsize=(10, 6))\n",
    "        if plot_type == \"Histogram\":\n",
    "            plt.hist(df[column_name].dropna(), bins=20, alpha=0.7)\n",
    "            plt.title(f'Distribution of {column_name}')\n",
    "        elif plot_type == \"Box Plot\":\n",
    "            plt.boxplot(df[column_name].dropna())\n",
    "            plt.title(f'Box Plot of {column_name}')\n",
    "        \n",
    "        plt.xlabel(column_name)\n",
    "        plt.tight_layout()\n",
    "        \n",
    "        return summary, plt.gcf(), df.head(10)\n",
    "        \n",
    "    except Exception as e:\n",
    "        return f\"Error processing file: {str(e)}\", None, None\n",
    "\n",
    "csv_analyzer = gr.Interface(\n",
    "    fn=data_summary_and_plot,\n",
    "    inputs=[\n",
    "        gr.File(label=\"Upload CSV File\", file_types=[\".csv\"]),\n",
    "        gr.Textbox(label=\"Column Name\", placeholder=\"Enter column name for analysis\"),\n",
    "        gr.Radio([\"Histogram\", \"Box Plot\"], value=\"Histogram\", label=\"Plot Type\")\n",
    "    ],\n",
    "    outputs=[\n",
    "        gr.Textbox(label=\"Summary\"),\n",
    "        gr.Plot(label=\"Visualization\"),\n",
    "        gr.Dataframe(label=\"Data Preview\")\n",
    "    ],\n",
    "    title=\"CSV Data Analyzer\",\n",
    "    description=\"Upload a CSV file and analyze a specific column\"\n",
    ")\n",
    "\n",
    "csv_analyzer.launch()"
   ]
  },
  {
   "cell_type": "markdown",
   "metadata": {},
   "source": [
    "## Try it on your own data!\n",
    "\n",
    "Let's create a comprehensive dashboard that combines multiple features:"
   ]
  },
  {
   "cell_type": "code",
   "execution_count": null,
   "metadata": {},
   "outputs": [],
   "source": []
  },
  {
   "cell_type": "code",
   "execution_count": null,
   "metadata": {},
   "outputs": [],
   "source": []
  },
  {
   "cell_type": "markdown",
   "metadata": {},
   "source": [
    "## Conclusion\n",
    "\n",
    "Gradio provides a powerful and intuitive way to create web applications from Python functions. Key takeaways:\n",
    "\n",
    "\n",
    "### Additional Resources:\n",
    "- [Official Gradio Documentation](https://gradio.app/docs/)\n",
    "- [Gradio Community Examples](https://huggingface.co/spaces?search=gradio)"
   ]
  },
  {
   "cell_type": "code",
   "execution_count": null,
   "metadata": {},
   "outputs": [],
   "source": []
  }
 ],
 "metadata": {
  "kernelspec": {
   "display_name": "showyourwork",
   "language": "python",
   "name": "showyourwork"
  },
  "language_info": {
   "codemirror_mode": {
    "name": "ipython",
    "version": 3
   },
   "file_extension": ".py",
   "mimetype": "text/x-python",
   "name": "python",
   "nbconvert_exporter": "python",
   "pygments_lexer": "ipython3",
   "version": "3.12.9"
  }
 },
 "nbformat": 4,
 "nbformat_minor": 4
}
