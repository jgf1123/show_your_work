{
 "cells": [
  {
   "cell_type": "markdown",
   "id": "fbd8ada3-ca98-416f-b2dc-dcdcfaf0120f",
   "metadata": {},
   "source": [
    "# Fast Dash\n",
    "\n",
    "Fast Dash makes web application development fast and easy."
   ]
  },
  {
   "cell_type": "markdown",
   "id": "03c33b66-d515-4d2a-baab-c2ed9bb0ac5d",
   "metadata": {},
   "source": [
    "Documentation: https://docs.fastdash.app/"
   ]
  },
  {
   "cell_type": "markdown",
   "id": "f4328473-8b64-4730-bd3f-39428d12d3e0",
   "metadata": {},
   "source": [
    "<img src=\"https://storage.googleapis.com/fast_dash/0.1.8/logo.png\" alt=\"Jupyter Logo\" width=\"400\"/>"
   ]
  },
  {
   "cell_type": "markdown",
   "id": "186f4451-b1e5-4f11-b404-9b4fc5ab1f6d",
   "metadata": {},
   "source": [
    "- Fast Dash reads everything about a Python function, like the function name, docstring, and input and output type hints, to **automatically generate a layout** and deploy an interactive web application.\n",
    "\n",
    "- The callback function and Fast Dash app configurations together determine how the app is deployed and the level of user interaction. A well-annotated callback function almost always ensures minimal custom tweaking of app configurations."
   ]
  },
  {
   "cell_type": "code",
   "execution_count": null,
   "id": "b248b36d-aebd-4cdc-a258-ab75e0eef846",
   "metadata": {},
   "outputs": [],
   "source": []
  },
  {
   "cell_type": "code",
   "execution_count": null,
   "id": "4170e6eb-d0d1-439c-a396-383563108d5b",
   "metadata": {},
   "outputs": [],
   "source": [
    "def my_function(a: str, b: int) -> (str, plt.Figure, PIL.Image):\n",
    "    \"\"\"Best function ever\"\"\"\n",
    "\n",
    "    # Function implementation\n",
    "\n",
    "    return text, matplotlib_figure, image"
   ]
  },
  {
   "cell_type": "code",
   "execution_count": null,
   "id": "5c0e3947-cf4e-48f7-86d7-256acfa5c8ab",
   "metadata": {},
   "outputs": [],
   "source": []
  },
  {
   "cell_type": "code",
   "execution_count": 3,
   "id": "19498abd-8178-4b0b-b8a3-4ad478d5c26e",
   "metadata": {},
   "outputs": [],
   "source": [
    "from fast_dash import fastdash"
   ]
  },
  {
   "cell_type": "markdown",
   "id": "f8f14183-b07f-41ac-a0ea-b84d31e69a83",
   "metadata": {},
   "source": [
    "### Let's build a simple Fast Dash app"
   ]
  },
  {
   "cell_type": "code",
   "execution_count": 4,
   "id": "f73ba551-6ecd-4567-89c6-b69e1fddd7a8",
   "metadata": {},
   "outputs": [
    {
     "name": "stderr",
     "output_type": "stream",
     "text": [
      "WARNING:root:Parsing function docstring is still an experimental feature. To reduce uncertainty, consider setting `about` to `False`.\n"
     ]
    },
    {
     "name": "stdout",
     "output_type": "stream",
     "text": [
      "Dash app running on http://127.0.0.1:8080/\n"
     ]
    },
    {
     "name": "stderr",
     "output_type": "stream",
     "text": [
      "C:\\GitHub\\show_your_work\\.venv\\Lib\\site-packages\\fast_dash\\Components.py:843: UserWarning:\n",
      "\n",
      "Unknown or unsupported default value type. Assuming text.\n",
      "\n"
     ]
    }
   ],
   "source": [
    "# Simple text to text app\n",
    "\n",
    "@fastdash(mode=\"external\")\n",
    "def text_to_text(input_text: str) -> str:\n",
    "    output_text = input_text\n",
    "    return output_text"
   ]
  },
  {
   "cell_type": "code",
   "execution_count": null,
   "id": "7e2cc6d7-5c5f-4176-a7df-60cd63a4e0de",
   "metadata": {},
   "outputs": [],
   "source": []
  },
  {
   "cell_type": "markdown",
   "id": "1ee36aaf-9f4a-48c8-804a-cd690179edb8",
   "metadata": {},
   "source": [
    "### Multiple inputs and outputs"
   ]
  },
  {
   "cell_type": "markdown",
   "id": "743faaa0-24ab-4d75-8f9e-f72eb35b4c30",
   "metadata": {},
   "source": [
    "You can build web applications from function requiring mutliple inputs and outputs."
   ]
  },
  {
   "cell_type": "code",
   "execution_count": 6,
   "id": "6d37b817-ccae-465f-b617-e35ee6eca43b",
   "metadata": {},
   "outputs": [],
   "source": [
    "import requests\n",
    "import matplotlib.pyplot as plt\n",
    "from fast_dash import fastdash, PIL"
   ]
  },
  {
   "cell_type": "code",
   "execution_count": 7,
   "id": "77d95d13-c0c9-44fd-ab7c-12cbdfa1fa2e",
   "metadata": {},
   "outputs": [
    {
     "name": "stderr",
     "output_type": "stream",
     "text": [
      "WARNING:root:Parsing function docstring is still an experimental feature. To reduce uncertainty, consider setting `about` to `False`.\n"
     ]
    },
    {
     "data": {
      "text/html": [
       "\n",
       "        <iframe\n",
       "            width=\"100%\"\n",
       "            height=\"650\"\n",
       "            src=\"http://127.0.0.1:8080/\"\n",
       "            frameborder=\"0\"\n",
       "            allowfullscreen\n",
       "            \n",
       "        ></iframe>\n",
       "        "
      ],
      "text/plain": [
       "<IPython.lib.display.IFrame at 0x1b286b17680>"
      ]
     },
     "metadata": {},
     "output_type": "display_data"
    }
   ],
   "source": [
    "@fastdash\n",
    "def my_function(a: str, b: int) -> (str, plt.Figure, PIL.Image.Image):\n",
    "    \"\"\"Best function ever\"\"\"\n",
    "\n",
    "    # Function implementation\n",
    "    text = \"Output\"\n",
    "    matplotlib_figure = plt.plot([1, 2], [4, 5])[0].figure\n",
    "    image = PIL.Image.open(requests.get(\"https://storage.googleapis.com/fast_dash/0.1.8/logo.png\", stream=True).raw)\n",
    "\n",
    "    return text, matplotlib_figure, image"
   ]
  },
  {
   "cell_type": "code",
   "execution_count": null,
   "id": "d331e519-849c-41ec-bb0e-eefecd52ca78",
   "metadata": {},
   "outputs": [],
   "source": []
  },
  {
   "cell_type": "markdown",
   "id": "ff8786f8-082d-411e-82ab-12ecf1902909",
   "metadata": {},
   "source": [
    "#### Controlling output layouts"
   ]
  },
  {
   "cell_type": "markdown",
   "id": "78d10f85-b0e5-410a-9899-6816c08d5c5f",
   "metadata": {},
   "source": [
    "You can specify string-based mosaics to control the output layouts. For example, let's say that we desire the layout given in the image below for the 3-output function we defined earlier.\n",
    "\n",
    "<img src=\"https://storage.googleapis.com/fast_dash/0.2.7/Mosaic%20examples/ex2.png\" alt=\"Jupyter Logo\" width=\"900\"/>"
   ]
  },
  {
   "cell_type": "markdown",
   "id": "1a034f4a-4bcc-4c19-8d8d-02becd41aad0",
   "metadata": {},
   "source": [
    "The mosaic string corresponding to this layout is \n",
    "\n",
    "**AB <br>\n",
    "CC**\n",
    "\n",
    "Each alphabet refers to one output component. The arrangement of alphabets chosen in the mosaic string determines the layout of output components."
   ]
  },
  {
   "cell_type": "code",
   "execution_count": 8,
   "id": "23cc9150-3b2d-4ed4-ab90-abb92999669e",
   "metadata": {},
   "outputs": [
    {
     "name": "stderr",
     "output_type": "stream",
     "text": [
      "WARNING:root:Parsing function docstring is still an experimental feature. To reduce uncertainty, consider setting `about` to `False`.\n"
     ]
    },
    {
     "data": {
      "text/html": [
       "\n",
       "        <iframe\n",
       "            width=\"100%\"\n",
       "            height=\"650\"\n",
       "            src=\"http://127.0.0.1:8081/\"\n",
       "            frameborder=\"0\"\n",
       "            allowfullscreen\n",
       "            \n",
       "        ></iframe>\n",
       "        "
      ],
      "text/plain": [
       "<IPython.lib.display.IFrame at 0x1b2860b4170>"
      ]
     },
     "metadata": {},
     "output_type": "display_data"
    },
    {
     "name": "stderr",
     "output_type": "stream",
     "text": [
      "INFO:werkzeug:127.0.0.1 - - [08/Jul/2025 11:34:54] \"GET /socket.io/?EIO=4&transport=polling&t=PVhKSMT HTTP/1.1\" 200 -\n",
      "INFO:werkzeug:127.0.0.1 - - [08/Jul/2025 11:35:24] \"GET /socket.io/?EIO=4&transport=polling&t=PVhKZhH HTTP/1.1\" 200 -\n"
     ]
    }
   ],
   "source": [
    "mosaic = \"\"\"\n",
    "AB\n",
    "AC\n",
    "\"\"\"\n",
    "\n",
    "@fastdash(mosaic=mosaic, port=8081)\n",
    "def my_function(a: str, b: int) -> (str, plt.Figure, PIL.Image.Image):\n",
    "    \"\"\"Best function ever\"\"\"\n",
    "\n",
    "    # Function implementation\n",
    "    text = \"Output\"\n",
    "    matplotlib_figure = plt.plot([1, 2], [4, 5])[0].figure\n",
    "    image = PIL.Image.open(requests.get(\"https://storage.googleapis.com/fast_dash/0.1.8/logo.png\", stream=True).raw)\n",
    "\n",
    "    return text, matplotlib_figure, image"
   ]
  },
  {
   "cell_type": "code",
   "execution_count": null,
   "id": "54f928b2-ad08-47d0-894a-9b7ba7128b85",
   "metadata": {},
   "outputs": [],
   "source": []
  },
  {
   "cell_type": "markdown",
   "id": "259f1e56-3f61-488a-bccf-bc07c40d2d0b",
   "metadata": {},
   "source": [
    "### Choosing input and output components"
   ]
  },
  {
   "cell_type": "markdown",
   "id": "c4cb7631-58cc-462c-9cb9-b41955892b32",
   "metadata": {},
   "source": [
    "Fast Dash relies on **type hints and specified default values** to determine input and output components. As of today, these type hints can be:\n",
    "\n",
    "- Python data types (`str`, `float`, `plt.Figure`)\n",
    "- Built-in components (`Text`, `Chat`, `Graph`, `Table`)\n",
    "- Other Dash components (`dcc.Dropdown`, `dmc.Table`)"
   ]
  },
  {
   "cell_type": "markdown",
   "id": "20bc1d9a-f72e-44f3-8458-063d8f1c3632",
   "metadata": {},
   "source": [
    "The same input hint can yield different components based on default values. For example, for inpyt type `str`, a string default value (or no default value) returns the `Text` component. But if the default value is a list, it returns a dropdown. "
   ]
  },
  {
   "cell_type": "code",
   "execution_count": 10,
   "id": "23313d59-9cc2-4721-90f0-56b9e52711c3",
   "metadata": {},
   "outputs": [
    {
     "name": "stderr",
     "output_type": "stream",
     "text": [
      "WARNING:root:Parsing function docstring is still an experimental feature. To reduce uncertainty, consider setting `about` to `False`.\n"
     ]
    },
    {
     "data": {
      "text/html": [
       "\n",
       "        <iframe\n",
       "            width=\"100%\"\n",
       "            height=\"650\"\n",
       "            src=\"http://127.0.0.1:8080/\"\n",
       "            frameborder=\"0\"\n",
       "            allowfullscreen\n",
       "            \n",
       "        ></iframe>\n",
       "        "
      ],
      "text/plain": [
       "<IPython.lib.display.IFrame at 0x1b28638d970>"
      ]
     },
     "metadata": {},
     "output_type": "display_data"
    }
   ],
   "source": [
    "import datetime\n",
    "\n",
    "@fastdash\n",
    "def datetime_example(date: datetime.date):\n",
    "    return date"
   ]
  },
  {
   "cell_type": "code",
   "execution_count": 11,
   "id": "4b640986-f312-4a5e-89c1-8726fb5fec09",
   "metadata": {},
   "outputs": [
    {
     "name": "stderr",
     "output_type": "stream",
     "text": [
      "WARNING:root:Parsing function docstring is still an experimental feature. To reduce uncertainty, consider setting `about` to `False`.\n"
     ]
    },
    {
     "data": {
      "text/html": [
       "\n",
       "        <iframe\n",
       "            width=\"100%\"\n",
       "            height=\"650\"\n",
       "            src=\"http://127.0.0.1:8080/\"\n",
       "            frameborder=\"0\"\n",
       "            allowfullscreen\n",
       "            \n",
       "        ></iframe>\n",
       "        "
      ],
      "text/plain": [
       "<IPython.lib.display.IFrame at 0x1b286b14470>"
      ]
     },
     "metadata": {},
     "output_type": "display_data"
    }
   ],
   "source": [
    "@fastdash\n",
    "def boolean_example(is_true: bool = False):\n",
    "\n",
    "    if is_true:\n",
    "        response =  \"Correct\"\n",
    "\n",
    "    else:\n",
    "        response = \"Wrong\"\n",
    "\n",
    "    return response"
   ]
  },
  {
   "cell_type": "code",
   "execution_count": null,
   "id": "91cb7ff7-7a99-4369-ae39-5127795f8b54",
   "metadata": {},
   "outputs": [],
   "source": []
  },
  {
   "cell_type": "markdown",
   "id": "58cdc230-a89e-4f21-87d2-d82b818fd51e",
   "metadata": {},
   "source": [
    "Notice the difference in input components with changing default values"
   ]
  },
  {
   "cell_type": "code",
   "execution_count": 12,
   "id": "b6de0048-6e42-47ef-8a91-57cc31c57027",
   "metadata": {},
   "outputs": [
    {
     "name": "stderr",
     "output_type": "stream",
     "text": [
      "WARNING:root:Parsing function docstring is still an experimental feature. To reduce uncertainty, consider setting `about` to `False`.\n"
     ]
    },
    {
     "data": {
      "text/html": [
       "\n",
       "        <iframe\n",
       "            width=\"100%\"\n",
       "            height=\"650\"\n",
       "            src=\"http://127.0.0.1:8080/\"\n",
       "            frameborder=\"0\"\n",
       "            allowfullscreen\n",
       "            \n",
       "        ></iframe>\n",
       "        "
      ],
      "text/plain": [
       "<IPython.lib.display.IFrame at 0x1b288371f70>"
      ]
     },
     "metadata": {},
     "output_type": "display_data"
    }
   ],
   "source": [
    "@fastdash\n",
    "def default_value_is_str(input_text: str = \"A\"):\n",
    "    return input_text"
   ]
  },
  {
   "cell_type": "code",
   "execution_count": 13,
   "id": "926eb09c-8106-4cc3-93ad-b9dc42dafd96",
   "metadata": {},
   "outputs": [
    {
     "name": "stderr",
     "output_type": "stream",
     "text": [
      "WARNING:root:Parsing function docstring is still an experimental feature. To reduce uncertainty, consider setting `about` to `False`.\n"
     ]
    },
    {
     "data": {
      "text/html": [
       "\n",
       "        <iframe\n",
       "            width=\"100%\"\n",
       "            height=\"650\"\n",
       "            src=\"http://127.0.0.1:8080/\"\n",
       "            frameborder=\"0\"\n",
       "            allowfullscreen\n",
       "            \n",
       "        ></iframe>\n",
       "        "
      ],
      "text/plain": [
       "<IPython.lib.display.IFrame at 0x1b2883707d0>"
      ]
     },
     "metadata": {},
     "output_type": "display_data"
    }
   ],
   "source": [
    "@fastdash\n",
    "def default_value_is_list(input_text: str = [\"A\", \"B\", \"C\"]):\n",
    "    return input_text"
   ]
  },
  {
   "cell_type": "code",
   "execution_count": 14,
   "id": "e853bea4-ad2e-48da-b41d-0023f5fad31d",
   "metadata": {},
   "outputs": [
    {
     "name": "stderr",
     "output_type": "stream",
     "text": [
      "WARNING:root:Parsing function docstring is still an experimental feature. To reduce uncertainty, consider setting `about` to `False`.\n"
     ]
    },
    {
     "data": {
      "text/html": [
       "\n",
       "        <iframe\n",
       "            width=\"100%\"\n",
       "            height=\"650\"\n",
       "            src=\"http://127.0.0.1:8080/\"\n",
       "            frameborder=\"0\"\n",
       "            allowfullscreen\n",
       "            \n",
       "        ></iframe>\n",
       "        "
      ],
      "text/plain": [
       "<IPython.lib.display.IFrame at 0x1b2869c8680>"
      ]
     },
     "metadata": {},
     "output_type": "display_data"
    }
   ],
   "source": [
    "# In this example, the input data type is a list\n",
    "\n",
    "@fastdash\n",
    "def default_value_is_list(input_text: list = [\"A\", \"B\", \"C\"]):\n",
    "    processed_list = \", \".join(input_text)\n",
    "    return processed_list"
   ]
  },
  {
   "cell_type": "code",
   "execution_count": null,
   "id": "1e5a93c2-942c-4f54-bcd4-f9f54a2e7d73",
   "metadata": {},
   "outputs": [],
   "source": []
  },
  {
   "cell_type": "markdown",
   "id": "6ac7dcb9-0e68-4c52-b2c5-eb315a80606b",
   "metadata": {},
   "source": [
    "#### Built-in components can be used for ease-of-use"
   ]
  },
  {
   "cell_type": "code",
   "execution_count": 15,
   "id": "22828f3f-cbf9-4056-8195-16d8599b0168",
   "metadata": {},
   "outputs": [
    {
     "name": "stderr",
     "output_type": "stream",
     "text": [
      "WARNING:root:Parsing function docstring is still an experimental feature. To reduce uncertainty, consider setting `about` to `False`.\n"
     ]
    },
    {
     "data": {
      "text/html": [
       "\n",
       "        <iframe\n",
       "            width=\"100%\"\n",
       "            height=\"650\"\n",
       "            src=\"http://127.0.0.1:8080/\"\n",
       "            frameborder=\"0\"\n",
       "            allowfullscreen\n",
       "            \n",
       "        ></iframe>\n",
       "        "
      ],
      "text/plain": [
       "<IPython.lib.display.IFrame at 0x1b288532030>"
      ]
     },
     "metadata": {},
     "output_type": "display_data"
    }
   ],
   "source": [
    "from fast_dash import UploadImage, Image\n",
    "\n",
    "@fastdash\n",
    "def image_to_image(upload_image: UploadImage) -> Image:\n",
    "    return upload_image"
   ]
  },
  {
   "cell_type": "code",
   "execution_count": 16,
   "id": "456b7d9b-b991-499f-ade1-dc1534670578",
   "metadata": {},
   "outputs": [
    {
     "name": "stderr",
     "output_type": "stream",
     "text": [
      "WARNING:root:Parsing function docstring is still an experimental feature. To reduce uncertainty, consider setting `about` to `False`.\n"
     ]
    },
    {
     "data": {
      "text/html": [
       "\n",
       "        <iframe\n",
       "            width=\"100%\"\n",
       "            height=\"650\"\n",
       "            src=\"http://127.0.0.1:8080/\"\n",
       "            frameborder=\"0\"\n",
       "            allowfullscreen\n",
       "            \n",
       "        ></iframe>\n",
       "        "
      ],
      "text/plain": [
       "<IPython.lib.display.IFrame at 0x1b286bde810>"
      ]
     },
     "metadata": {},
     "output_type": "display_data"
    }
   ],
   "source": [
    "import pandas as pd\n",
    "from fast_dash import UploadImage, Image, Table\n",
    "\n",
    "@fastdash\n",
    "def image_to_image(upload_image: UploadImage) -> (Image, Table):\n",
    "\n",
    "    df = pd.DataFrame(dict(A=[1, 2, 3], B=[4, 5, 6]))\n",
    "    return upload_image, df"
   ]
  },
  {
   "cell_type": "code",
   "execution_count": 17,
   "id": "8f310785-eb56-48a5-b388-57df42e4c10f",
   "metadata": {},
   "outputs": [
    {
     "name": "stderr",
     "output_type": "stream",
     "text": [
      "WARNING:root:Parsing function docstring is still an experimental feature. To reduce uncertainty, consider setting `about` to `False`.\n"
     ]
    },
    {
     "data": {
      "text/html": [
       "\n",
       "        <iframe\n",
       "            width=\"100%\"\n",
       "            height=\"650\"\n",
       "            src=\"http://127.0.0.1:8080/\"\n",
       "            frameborder=\"0\"\n",
       "            allowfullscreen\n",
       "            \n",
       "        ></iframe>\n",
       "        "
      ],
      "text/plain": [
       "<IPython.lib.display.IFrame at 0x1b2883ecf80>"
      ]
     },
     "metadata": {},
     "output_type": "display_data"
    }
   ],
   "source": [
    "from fast_dash import Chat\n",
    "\n",
    "@fastdash\n",
    "def chat_example(question: str) -> Chat:\n",
    "\n",
    "    response = \"I am Groot!\"\n",
    "    response = dict(query=question, response=response)\n",
    "    \n",
    "    return response"
   ]
  },
  {
   "cell_type": "code",
   "execution_count": null,
   "id": "8e7de4c3-0c5a-4c25-9dfa-4923cc612855",
   "metadata": {},
   "outputs": [],
   "source": []
  },
  {
   "cell_type": "markdown",
   "id": "5dfe69d3-9c37-4999-9101-26b7a22779e5",
   "metadata": {},
   "source": [
    "#### Using Dash components"
   ]
  },
  {
   "cell_type": "markdown",
   "id": "576decc8-151b-40ff-8298-c78b19b3cb19",
   "metadata": {},
   "source": [
    "If there's a Dash component that Fast Dash doesn't support out of the box, it can also be used with Fast Dash.\n",
    "\n",
    "Fast Dash's `Fastify` class converts a Dash components into a Fast Dash component."
   ]
  },
  {
   "cell_type": "code",
   "execution_count": null,
   "id": "7fd2e807-2699-4c99-8fff-e7051e334d39",
   "metadata": {},
   "outputs": [],
   "source": [
    "import dash_mantine_components as dmc\n",
    "from fast_dash import Fastify\n",
    "# from fast_dash import dmc\n",
    "\n",
    "chip_component = Fastify(dmc.Chip(\"Chip\"), component_property=\"checked\")\n",
    "\n",
    "password_component = Fastify(dmc.PasswordInput(\n",
    "\tplaceholder=\"Password\",\n",
    "\tlabel=\"Enter your password\",\n",
    "\tdescription=\"Password must include at least one letter, number and special character\",\n",
    "\tsize=\"sm\",\n",
    "\tradius=\"sm\",\n",
    "\trequired=True,\n",
    "), \"value\")\n",
    "\n",
    "@fastdash\n",
    "def dash_components(is_true: chip_component,\n",
    "                   password: password_component):\n",
    "    if is_true:\n",
    "        response =  \"Correct\"\n",
    "\n",
    "    else:\n",
    "        response = \"Wrong\"\n",
    "\n",
    "    return response    "
   ]
  },
  {
   "cell_type": "code",
   "execution_count": null,
   "id": "3b222b4c-5ba5-4963-8bf0-f90fc301a553",
   "metadata": {},
   "outputs": [],
   "source": []
  },
  {
   "cell_type": "code",
   "execution_count": null,
   "id": "02e0b28c-0a07-44c9-90bc-07651cbea60d",
   "metadata": {},
   "outputs": [],
   "source": []
  },
  {
   "cell_type": "code",
   "execution_count": null,
   "id": "6144e1f5-e2d3-4fd5-ae0d-e1e83545f49c",
   "metadata": {},
   "outputs": [],
   "source": []
  },
  {
   "cell_type": "markdown",
   "id": "f1bbad9b-972c-4e4e-ba29-f1bee865baa0",
   "metadata": {},
   "source": [
    "### Multi-input, multi-output example"
   ]
  },
  {
   "cell_type": "code",
   "execution_count": null,
   "id": "eefe8283-cf4a-475f-98aa-ce49edc41961",
   "metadata": {},
   "outputs": [],
   "source": [
    "from fast_dash import dmc, PIL, Text, Chat, Table, Image, UploadImage, Graph\n",
    "\n",
    "import pandas as pd\n",
    "import matplotlib.pyplot as plt\n",
    "import plotly.express as px\n",
    "\n",
    "mosaic =  \"\"\"\n",
    "AFD\n",
    "CED\n",
    "BBB\n",
    "\"\"\"\n",
    "\n",
    "@fastdash(mosaic=mosaic, mode=\"external\")\n",
    "def chat_example(upload_image: UploadImage,\n",
    "                 password: password_component,\n",
    "                 select_value: float,\n",
    "                 query: str) -> (PIL.Image.Image, Graph, Table, Chat, str, plt.Figure):\n",
    "\n",
    "    image = upload_image\n",
    "    plotly_figure = px.scatter(x=[0, 1, 2, 3, 4], y=[0, 1, 4, 9, 16])\n",
    "    df = pd.DataFrame(dict(A=[1, 2, 3], B=[4, 5, 6]))\n",
    "\n",
    "    response = \"I am Groot!\"\n",
    "    response = dict(query=query, response=response)\n",
    "\n",
    "    scores = select_value\n",
    "    matplotlib_figure = plt.plot([1, 2], [4, 5])[0].figure\n",
    "    \n",
    "    return image, plotly_figure, df, response, scores, matplotlib_figure"
   ]
  },
  {
   "cell_type": "code",
   "execution_count": null,
   "id": "258d4325-9e8d-41fd-8e7c-353bb2ddf0d0",
   "metadata": {},
   "outputs": [],
   "source": []
  },
  {
   "cell_type": "markdown",
   "id": "827841e0-080a-44c5-a7a6-2bd481eee199",
   "metadata": {},
   "source": [
    "## Notifications"
   ]
  },
  {
   "cell_type": "markdown",
   "id": "0eafdb63-5aa8-4a42-9499-954bf53831b3",
   "metadata": {},
   "source": [
    "- Errors automatically trigger notifications\n",
    "- But they can also be manually triggered using the `notify` method"
   ]
  },
  {
   "cell_type": "code",
   "execution_count": null,
   "id": "ce6e76ff-28d3-4ad8-96f2-e4d5e30120b1",
   "metadata": {},
   "outputs": [],
   "source": [
    "# Example of an error triggering a notification\n",
    "\n",
    "@fastdash\n",
    "def example_with_error(input_text: str):\n",
    "    return output_text"
   ]
  },
  {
   "cell_type": "code",
   "execution_count": null,
   "id": "5cdbb737-e7ba-475c-8487-ad3ab8c6620a",
   "metadata": {},
   "outputs": [],
   "source": [
    "# Example of an error triggering a notification\n",
    "\n",
    "@fastdash\n",
    "def example_with_error(input_text: str):\n",
    "\n",
    "    if not input_text.endswith(\"?\"):\n",
    "        raise Exception(\"input_text must always end with a '?'\")\n",
    "        \n",
    "    return input_text"
   ]
  },
  {
   "cell_type": "code",
   "execution_count": null,
   "id": "b9edbe92-0547-488b-8119-fa9a53319572",
   "metadata": {},
   "outputs": [],
   "source": []
  },
  {
   "cell_type": "code",
   "execution_count": null,
   "id": "e1aacb88-81d9-44f3-a588-7849aed33c37",
   "metadata": {},
   "outputs": [],
   "source": [
    "# Using notify to show other app updates\n",
    "import time\n",
    "from fast_dash import Chat, notify, fastdash\n",
    "\n",
    "@fastdash(stream=True)\n",
    "def notify_example(input_text: str) -> Chat:\n",
    "\n",
    "    notify(\"Finding the answer for you\")\n",
    "    time.sleep(2)\n",
    "\n",
    "    start_time = time.time()\n",
    "    while time.time() - start_time < 10:\n",
    "        \n",
    "        notify(\"Working very hard ...\")\n",
    "        time.sleep(3)\n",
    "\n",
    "    reply = dict(query=input_text, response=f\"Here's my response to {input_text}: No!\")\n",
    "\n",
    "    return reply"
   ]
  },
  {
   "cell_type": "code",
   "execution_count": null,
   "id": "9017c02f-d640-4c42-be1e-f70b4c35aaaa",
   "metadata": {},
   "outputs": [],
   "source": []
  },
  {
   "cell_type": "markdown",
   "id": "a1952a21-acf6-403a-8cba-a320bac64ef1",
   "metadata": {},
   "source": [
    "## Use `update` to stream component updates"
   ]
  },
  {
   "cell_type": "code",
   "execution_count": null,
   "id": "4512af9a-da7c-4c8b-814c-a04dbccf3016",
   "metadata": {},
   "outputs": [],
   "source": [
    "# Most useful in streaming text responses\n",
    "import time\n",
    "\n",
    "from fast_dash import fastdash, update, Text\n",
    "\n",
    "@fastdash(loader=False, stream=True, mode=\"external\", port=8082)\n",
    "def stream_text(input_text: str) -> Text(stream=True):\n",
    "\n",
    "    output = f\"My response to {input_text} is: it's not possible!\"\n",
    "\n",
    "    reply = \"\"\n",
    "    for character in output:\n",
    "        reply += character\n",
    "        update(\"reply\", reply)\n",
    "        time.sleep(0.1)\n",
    "\n",
    "    return reply"
   ]
  },
  {
   "cell_type": "code",
   "execution_count": null,
   "id": "2ee8c7b2-b224-4e79-a7ca-1b6e9cfa32b0",
   "metadata": {},
   "outputs": [],
   "source": []
  },
  {
   "cell_type": "code",
   "execution_count": null,
   "id": "fb98d6d0-c9a0-4989-916a-de3f9af3ef81",
   "metadata": {},
   "outputs": [],
   "source": [
    "# Use with a `Chat` component\n",
    "\n",
    "import time\n",
    "from fast_dash import fastdash, Chat, update\n",
    "\n",
    "@fastdash(loader=False, mode=\"external\", stream=True, port=8082)\n",
    "def stream_text(input_text: str) -> Chat(stream=True):\n",
    "\n",
    "    output = f\"My response to {input_text} is: it's not possible!\"\n",
    "\n",
    "    # Update the query\n",
    "    update(\"response\", input_text, property=\"query\")\n",
    "\n",
    "    reply = \"\"\n",
    "    for character in output:\n",
    "        reply += character\n",
    "\n",
    "        # Update the reply\n",
    "        update(\"response\", reply, property=\"response\")\n",
    "        time.sleep(0.1)\n",
    "\n",
    "    response = dict(query=input_text, response=reply)\n",
    "\n",
    "    return response"
   ]
  },
  {
   "cell_type": "code",
   "execution_count": null,
   "id": "d649fdf6-8881-4f96-8370-0c5bb95c55db",
   "metadata": {},
   "outputs": [],
   "source": []
  },
  {
   "cell_type": "markdown",
   "id": "c3d0f571-b867-414f-b79a-3deea09eca9c",
   "metadata": {},
   "source": [
    "## Exercise: Build an app with your dataset"
   ]
  },
  {
   "cell_type": "code",
   "execution_count": null,
   "id": "ba8b4983-b1f2-4d31-92d8-80257993d43a",
   "metadata": {},
   "outputs": [],
   "source": [
    "from fast_dash import fastdash"
   ]
  },
  {
   "cell_type": "code",
   "execution_count": null,
   "id": "d524fb66-8925-4b3b-9377-f4d06b96a7ae",
   "metadata": {},
   "outputs": [],
   "source": []
  },
  {
   "cell_type": "code",
   "execution_count": null,
   "id": "551a0a2b-3bed-4797-a7bb-babb2c400b41",
   "metadata": {},
   "outputs": [],
   "source": []
  },
  {
   "cell_type": "code",
   "execution_count": null,
   "id": "0bc429a9-469b-4e63-afb9-a028f5965dfd",
   "metadata": {},
   "outputs": [],
   "source": []
  },
  {
   "cell_type": "code",
   "execution_count": null,
   "id": "500f89aa-e954-4e14-9a0a-bfa412f50c05",
   "metadata": {},
   "outputs": [],
   "source": []
  },
  {
   "cell_type": "code",
   "execution_count": null,
   "id": "07f692f1-25e9-4d16-bbce-4964663d6b2c",
   "metadata": {},
   "outputs": [],
   "source": []
  }
 ],
 "metadata": {
  "kernelspec": {
   "display_name": "showyourwork",
   "language": "python",
   "name": "showyourwork"
  },
  "language_info": {
   "codemirror_mode": {
    "name": "ipython",
    "version": 3
   },
   "file_extension": ".py",
   "mimetype": "text/x-python",
   "name": "python",
   "nbconvert_exporter": "python",
   "pygments_lexer": "ipython3",
   "version": "3.12.9"
  }
 },
 "nbformat": 4,
 "nbformat_minor": 5
}
