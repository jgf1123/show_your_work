{
 "cells": [
  {
   "cell_type": "markdown",
   "id": "c2f80b57-1e00-450b-98af-9b9d00fa5c23",
   "metadata": {},
   "source": [
    "# Deploy your web app"
   ]
  },
  {
   "cell_type": "markdown",
   "id": "29d696fd-e1c8-47f4-b63c-85de813d256c",
   "metadata": {},
   "source": []
  },
  {
   "cell_type": "markdown",
   "id": "f16573e1",
   "metadata": {
    "vscode": {
     "languageId": "markdown"
    }
   },
   "source": [
    "Some popular platforms where data web apps can be deployed include:\n",
    "\n",
    "- Heroku\n",
    "- AWS Elastic Beanstalk\n",
    "- Google Cloud Run\n",
    "- Microsoft Azure App Service\n",
    "- DigitalOcean App Platform\n",
    "- Vercel\n",
    "- Netlify (for static apps)\n",
    "- Render\n",
    "\n",
    "These platforms support various frameworks and languages, making it easy to deploy and scale web applications."
   ]
  },
  {
   "cell_type": "markdown",
   "id": "231b1361",
   "metadata": {
    "vscode": {
     "languageId": "plaintext"
    }
   },
   "source": [
    "Most web app platforms you choose to run have their own cloud deployment options, but you can also deploy them to a generic cloud platform like AWS, Azure, or Google Cloud. For example, Streamlit apps can be deployed to Streamlit Cloud, which is a managed service specifically designed for Streamlit applications; Shiny apps can be deployed to shinyapps.io, and so on."
   ]
  },
  {
   "cell_type": "markdown",
   "id": "8cfb8184",
   "metadata": {
    "vscode": {
     "languageId": "plaintext"
    }
   },
   "source": [
    "In this tutorial, we'll consider two options:\n",
    "\n",
    "- Google Cloud Run\n",
    "- HuggingFace Spaces"
   ]
  },
  {
   "cell_type": "code",
   "execution_count": null,
   "id": "b8d139cd-0c95-41d3-b6c5-ce99b3bc0bfb",
   "metadata": {},
   "outputs": [],
   "source": []
  },
  {
   "cell_type": "markdown",
   "id": "1275d40b",
   "metadata": {
    "vscode": {
     "languageId": "plaintext"
    }
   },
   "source": [
    "## Option 1. HuggingFace Spaces (recommended)"
   ]
  },
  {
   "cell_type": "markdown",
   "id": "d6e8c421",
   "metadata": {},
   "source": [
    "HuggingFace Spaces is a platform that allows you to easily deploy and share machine learning applications and demos. It supports popular frameworks like Streamlit, Gradio, and static HTML, making it simple to showcase models and interactive web apps. Spaces provides free hosting, version control, and collaboration features, enabling developers and researchers to share their work with the community quickly and efficiently."
   ]
  },
  {
   "cell_type": "markdown",
   "id": "7591f930",
   "metadata": {},
   "source": [
    "#### Step 1. Create a HuggingFace account and a new Space\n",
    "\n",
    "Go to: https://huggingface.co/new-space"
   ]
  },
  {
   "cell_type": "markdown",
   "id": "b2fb8e2c",
   "metadata": {},
   "source": [
    "#### Step 2. Clone the Space repository\n",
    "\n",
    "git clone https://huggingface.co/spaces/your-username/your-space-name"
   ]
  },
  {
   "cell_type": "markdown",
   "id": "e4f88f75",
   "metadata": {},
   "source": [
    "#### Step 3. Create a local folder structure"
   ]
  },
  {
   "cell_type": "markdown",
   "id": "0501441d",
   "metadata": {},
   "source": [
    "Fast Dash comes with a CLI tool that can help you create a local folder structure for your web app, irrespective of the framework you choose. You can use the following command:\n",
    "\n",
    "```bash\n",
    "fastdash create my-web-app\n",
    "mv my-web-app/* .\n",
    "```"
   ]
  },
  {
   "cell_type": "markdown",
   "id": "1a0fa108",
   "metadata": {},
   "source": [
    "#### Step 4. Modify app.py with your app code"
   ]
  },
  {
   "cell_type": "markdown",
   "id": "94de7ee9",
   "metadata": {},
   "source": [
    "#### Step 5. Modify requirements.txt"
   ]
  },
  {
   "cell_type": "markdown",
   "id": "5f00b1d4",
   "metadata": {},
   "source": [
    "#### Step 6. Test your app locally"
   ]
  },
  {
   "cell_type": "markdown",
   "id": "9a83d55e",
   "metadata": {},
   "source": [
    "#### Step 7. Push your changes to the Space repository\n",
    "\n",
    "```bash\n",
    "git add .\n",
    "git commit -m \"Initial commit\"\n",
    "git push\n",
    "```"
   ]
  },
  {
   "cell_type": "code",
   "execution_count": null,
   "id": "f8f1024f",
   "metadata": {
    "vscode": {
     "languageId": "plaintext"
    }
   },
   "outputs": [],
   "source": []
  },
  {
   "cell_type": "markdown",
   "id": "58192682",
   "metadata": {
    "vscode": {
     "languageId": "plaintext"
    }
   },
   "source": [
    "## Option 2. Google Cloud Run"
   ]
  },
  {
   "cell_type": "markdown",
   "id": "3794f091",
   "metadata": {
    "vscode": {
     "languageId": "markdown"
    }
   },
   "source": [
    "Google Cloud Run is a fully managed compute platform that automatically scales your containerized applications. It allows you to deploy and run stateless containers that are invocable via HTTP requests. Cloud Run abstracts away all infrastructure management, so you only need to focus on your code. It supports any language, library, or binary, as long as it can run in a container."
   ]
  },
  {
   "cell_type": "markdown",
   "id": "3f494688",
   "metadata": {},
   "source": [
    "It has a CLI called `gcloud` that you can use to deploy your app. The steps to deploy a web app using Google Cloud Run are as follows:"
   ]
  },
  {
   "cell_type": "markdown",
   "id": "774beea7",
   "metadata": {
    "vscode": {
     "languageId": "plaintext"
    }
   },
   "source": [
    "#### Step 1. Install Google Cloud Run CLI\n",
    "\n",
    "https://cloud.google.com/sdk/docs/install"
   ]
  },
  {
   "cell_type": "markdown",
   "id": "5144e8de",
   "metadata": {
    "vscode": {
     "languageId": "plaintext"
    }
   },
   "source": [
    "#### Step 2. Configure Google Cloud CLI"
   ]
  },
  {
   "cell_type": "markdown",
   "id": "0fadde52",
   "metadata": {
    "vscode": {
     "languageId": "plaintext"
    }
   },
   "source": [
    "Authenticate with your Google account\n",
    "\n",
    "```bash\n",
    "gcloud auth login\n",
    "```\n",
    "\n",
    "Set the project you want to work with:\n",
    "```bash\n",
    "gcloud projects create scipy-2025-<your-name>\n",
    "gcloud config set project scipy-2025-<your-name>\n",
    "```\n",
    "\n",
    "Configure your billing account:\n",
    "Go to https://console.cloud.google.com/billing/linkedaccount?project=scipy-2025-<your-name>\n",
    "\n",
    "Click \"Link a billing account\" if you have an existing billing account or select \"Manage billing accounts\".\n",
    "\n"
   ]
  },
  {
   "cell_type": "code",
   "execution_count": null,
   "id": "8ffed93d",
   "metadata": {
    "vscode": {
     "languageId": "plaintext"
    }
   },
   "outputs": [],
   "source": []
  },
  {
   "cell_type": "markdown",
   "id": "ac8dbfb3",
   "metadata": {
    "vscode": {
     "languageId": "plaintext"
    }
   },
   "source": [
    "#### Step 3. Create a local folder structure"
   ]
  },
  {
   "cell_type": "markdown",
   "id": "b76dbbae",
   "metadata": {},
   "source": [
    "Fast Dash comes with a CLI tool that can help you create a local folder structure for your web app, irrespective of the framework you choose. You can use the following command:\n",
    "\n",
    "```bash\n",
    "fastdash create my-web-app\n",
    "```"
   ]
  },
  {
   "cell_type": "markdown",
   "id": "74a10d15",
   "metadata": {
    "vscode": {
     "languageId": "plaintext"
    }
   },
   "source": [
    "#### Step 4. Modify app.py with your app code"
   ]
  },
  {
   "cell_type": "markdown",
   "id": "18c955e5",
   "metadata": {
    "vscode": {
     "languageId": "plaintext"
    }
   },
   "source": [
    "#### Step 5. Modify requirements.txt"
   ]
  },
  {
   "cell_type": "markdown",
   "id": "94328dab",
   "metadata": {},
   "source": [
    "#### Step 6. Test your app locally"
   ]
  },
  {
   "cell_type": "markdown",
   "id": "d4b87d4c",
   "metadata": {
    "vscode": {
     "languageId": "plaintext"
    }
   },
   "source": [
    "Run\n",
    "\n",
    "```bash\n",
    "python app.py\n",
    "```"
   ]
  },
  {
   "cell_type": "markdown",
   "id": "56dcd43f",
   "metadata": {},
   "source": [
    "#### Step 7. Run Google Cloud Run deploy command\n",
    "\n",
    "```bash\n",
    "gcloud run deploy\n",
    "```"
   ]
  },
  {
   "cell_type": "markdown",
   "id": "22b3fea4",
   "metadata": {},
   "source": []
  },
  {
   "cell_type": "markdown",
   "id": "67f8e387",
   "metadata": {},
   "source": []
  }
 ],
 "metadata": {
  "kernelspec": {
   "display_name": "Python 3 (ipykernel)",
   "language": "python",
   "name": "python3"
  },
  "language_info": {
   "codemirror_mode": {
    "name": "ipython",
    "version": 3
   },
   "file_extension": ".py",
   "mimetype": "text/x-python",
   "name": "python",
   "nbconvert_exporter": "python",
   "pygments_lexer": "ipython3",
   "version": "3.12.9"
  }
 },
 "nbformat": 4,
 "nbformat_minor": 5
}
